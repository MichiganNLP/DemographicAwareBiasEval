{
 "cells": [
  {
   "cell_type": "code",
   "execution_count": 1,
   "id": "93697f4b",
   "metadata": {},
   "outputs": [],
   "source": [
    "import pandas as pd"
   ]
  },
  {
   "cell_type": "code",
   "execution_count": 2,
   "id": "35d7feb1",
   "metadata": {},
   "outputs": [],
   "source": [
    "df = pd.read_csv(\"GeoWAC_a.csv\")\n",
    "df_train = df.sample(frac=0.9)#.reset_index(drop=True)\n",
    "df_val = df[~df.isin(df_train)].dropna()\n",
    "df_train.to_csv(\"a_Train1.csv\")\n",
    "df_val.to_csv(\"a_Val1.csv\")"
   ]
  }
 ],
 "metadata": {
  "kernelspec": {
   "display_name": "Python 3 (ipykernel)",
   "language": "python",
   "name": "python3"
  },
  "language_info": {
   "codemirror_mode": {
    "name": "ipython",
    "version": 3
   },
   "file_extension": ".py",
   "mimetype": "text/x-python",
   "name": "python",
   "nbconvert_exporter": "python",
   "pygments_lexer": "ipython3",
   "version": "3.9.6"
  }
 },
 "nbformat": 4,
 "nbformat_minor": 5
}
