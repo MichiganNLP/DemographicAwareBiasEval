{
 "cells": [
  {
   "cell_type": "code",
   "execution_count": null,
   "metadata": {},
   "outputs": [],
   "source": [
    "import pickle\n",
    "from gensim.models import FastText\n",
    "from gensim.models import Word2Vec\n",
    "from gensim.test.utils import common_texts\n",
    "import sklearn.manifold\n",
    "import numpy as np\n",
    "import pandas as pd\n",
    "import re\n",
    "import multiprocessing\n",
    "from nltk.corpus import stopwords\n",
    "from nltk.stem import PorterStemmer\n",
    "from gensim.models.doc2vec import Doc2Vec, TaggedDocument\n",
    "stop_words = set(stopwords.words('english'))\n",
    "ps = PorterStemmer()\n",
    "from sklearn.metrics.pairwise import cosine_similarity\n",
    "from collections import Counter\n",
    "import matplotlib.pyplot as plt \n",
    "import seaborn as sns\n",
    "import time\n",
    "import collections\n",
    "import nltk\n",
    "nltk.download('punkt')"
   ]
  },
  {
   "cell_type": "code",
   "execution_count": null,
   "metadata": {},
   "outputs": [],
   "source": [
    "file = open(\"weat.txt\", \"r\" ) \n",
    "file=file.read()"
   ]
  },
  {
   "cell_type": "code",
   "execution_count": null,
   "metadata": {},
   "outputs": [],
   "source": [
    "tokenizer = nltk.data.load('tokenizers/punkt/english.pickle')\n",
    "raw_sentences = tokenizer.tokenize(file.lower())"
   ]
  },
  {
   "cell_type": "code",
   "execution_count": null,
   "metadata": {
    "scrolled": true
   },
   "outputs": [],
   "source": [
    "import pandas as pd \n",
    "\n",
    "df1 = pd.read_csv(\"regiona.csv\")"
   ]
  },
  {
   "cell_type": "code",
   "execution_count": null,
   "metadata": {},
   "outputs": [],
   "source": [
    "file_ = list(df1.Text.values)\n",
    "file2 = ''.join(map(str, file_))"
   ]
  },
  {
   "cell_type": "code",
   "execution_count": null,
   "metadata": {},
   "outputs": [],
   "source": [
    "#Split the corpus into sentences\n",
    "tokenizer = nltk.data.load('tokenizers/punkt/english.pickle')\n",
    "raw_sentences2 = tokenizer.tokenize(file2)"
   ]
  },
  {
   "cell_type": "code",
   "execution_count": null,
   "metadata": {},
   "outputs": [],
   "source": [
    "print(\"Corpus is now {0} characters long\".format(len(file2)))"
   ]
  },
  {
   "cell_type": "code",
   "execution_count": null,
   "metadata": {},
   "outputs": [],
   "source": [
    "def sentence_to_wordlist(raw):\n",
    "    clean=re.sub('[\\n]',' ',raw.lower())\n",
    "    clean = re.sub(\"[^a-zA-Z]\",\" \", raw.lower())\n",
    "    words = clean.split()\n",
    "    #words = [ps.stem(w) for w in words if not w in stop_words]  \n",
    "    words = [w for w in words if not w in stop_words] \n",
    "    return words"
   ]
  },
  {
   "cell_type": "code",
   "execution_count": null,
   "metadata": {},
   "outputs": [],
   "source": [
    "sentences = []\n",
    "for raw_sentence in raw_sentences2:\n",
    "    if len(raw_sentence) > 0:\n",
    "        sentences.append(sentence_to_wordlist(raw_sentence))\n",
    "#print(sentences[1])"
   ]
  },
  {
   "cell_type": "code",
   "execution_count": null,
   "metadata": {
    "scrolled": true
   },
   "outputs": [],
   "source": [
    "token_count = sum([len(sentence) for sentence in sentences])\n",
    "print(\"The corpus contains {0:,} tokens\".format(token_count))"
   ]
  },
  {
   "cell_type": "code",
   "execution_count": null,
   "metadata": {},
   "outputs": [],
   "source": [
    "def getWordList(sentences,minCount):\n",
    "    wordList = []\n",
    "    count = Counter()\n",
    "    for sentence in sentences:\n",
    "        for word in sentence:\n",
    "            count[word] += 1\n",
    "    for word,c in count.items():\n",
    "        if c >= minCount:\n",
    "            wordList.append(word)\n",
    "    return wordList"
   ]
  },
  {
   "cell_type": "code",
   "execution_count": null,
   "metadata": {},
   "outputs": [],
   "source": [
    "WordList=getWordList(sentences,minCount=5) # for min frequency of a word which should be 5\n",
    "#print(WordList)"
   ]
  },
  {
   "cell_type": "code",
   "execution_count": null,
   "metadata": {},
   "outputs": [],
   "source": [
    "model = Word2Vec(sentences,vector_size=300,window=5,min_count=5,seed=102,workers=multiprocessing.cpu_count(),batch_words=1)"
   ]
  },
  {
   "cell_type": "code",
   "execution_count": null,
   "metadata": {},
   "outputs": [],
   "source": [
    "#word_frequency\n",
    "w2c = dict()\n",
    "for item in model.wv.vocab:\n",
    "    w2c[item]=model.wv.vocab[item].count\n",
    "w2cSorted=dict(sorted(w2c.items(), key=lambda x: x[1],reverse=True))\n",
    "# reverse output word and their frequency"
   ]
  },
  {
   "cell_type": "code",
   "execution_count": null,
   "metadata": {},
   "outputs": [],
   "source": [
    "def target_attribute(target_one,target_two, target_one_words, attribute_one,attribute_two, attribute_one_words, target_two_words, attribute_two_words):\n",
    "    cos=[]\n",
    "    s=0\n",
    "    s1=[]\n",
    "    s2=[]\n",
    "    S=[]\n",
    "    n=0\n",
    "    for i in range(0, len(target_one_words)):\n",
    "            c1=[]\n",
    "            c2=[]\n",
    "            for k in range(0, len(attribute_one_words)):\n",
    "                wt = target_one_words[i][:-1]\n",
    "                at1 = attribute_one_words[k][:-1]\n",
    "                try:\n",
    "                    cos1= model.wv.similarity(wt, at1)\n",
    "                    cos.append(cos1)\n",
    "                    c1.append(cos1)\n",
    "                except:\n",
    "                    cos1=0\n",
    "                    cos.append(cos1)\n",
    "                    c1.append(cos1)\n",
    "                    continue\n",
    "            for k in range(0, len(attribute_two_words)):\n",
    "                cos2=0\n",
    "                wt = target_one_words[i][:-1]\n",
    "                at2 = attribute_two_words[k][:-1]\n",
    "                try:\n",
    "                    cos2= model.wv.similarity(wt, at2)\n",
    "                    cos.append(cos2)\n",
    "                    c2.append(cos2)\n",
    "                except:\n",
    "                    cos2=0\n",
    "                    cos.append(cos2)\n",
    "                    c2.append(cos2)\n",
    "                    continue\n",
    "            s1.append((np.mean(c1)-np.mean(c2)))\n",
    "            S.append((np.mean(c1)-np.mean(c2)))\n",
    "            n=n+1\n",
    "    for i in range(0, len(target_two_words)):\n",
    "            c1=[]\n",
    "            c2=[]\n",
    "            for k in range(0, len(attribute_one_words)):\n",
    "                wt = target_two_words[i][:-1]\n",
    "                at1 = attribute_one_words[k][:-1]\n",
    "                try:\n",
    "                    cos1= model.wv.similarity(wt, at1)\n",
    "                    cos.append(cos1)\n",
    "                    c1.append(cos1)\n",
    "                except:\n",
    "                    cos1=0\n",
    "                    cos.append(cos1)\n",
    "                    c1.append(cos1)\n",
    "                    continue\n",
    "            for k in range(0, len(attribute_two_words)):\n",
    "                cos2=0\n",
    "                wt = target_two_words[i][:-1]\n",
    "                at2 = attribute_two_words[k][:-1]\n",
    "                try:\n",
    "                    cos2= model.wv.similarity(wt, at2)\n",
    "                    cos.append(cos2)\n",
    "                    c2.append(cos2)\n",
    "                except:\n",
    "                    cos2=0\n",
    "                    cos.append(cos2)\n",
    "                    c2.append(cos2)\n",
    "                    continue\n",
    "            s2.append((np.mean(c1)-np.mean(c2)))\n",
    "            S.append((np.mean(c1)-np.mean(c2)))\n",
    "    s=np.sum(s1)-np.sum(s2)\n",
    "    stdev=np.std(S)\n",
    "    print(target_one + ' vs ' + target_two  + ' , ' +attribute_one + ' vs ' + attribute_two +', d = ' + str(s/(stdev*n)))\n",
    "    #print(str(s/(stdev*n)))"
   ]
  },
  {
   "cell_type": "code",
   "execution_count": null,
   "metadata": {
    "scrolled": true
   },
   "outputs": [],
   "source": [
    "for i in range(len(raw_sentences)-30):\n",
    "    words=raw_sentences[i*4].split()\n",
    "    target_one = words[0][:-1]\n",
    "    target_one_words = words[1:]\n",
    "    words1=raw_sentences[i*4+1].split()\n",
    "    target_two = words1[0][:-1]\n",
    "    target_two_words = words1[1:]\n",
    "    words2=raw_sentences[i*4+2].split()\n",
    "    attribute_one = words2[0][:-1]\n",
    "    attribute_one_words = words2[1:]\n",
    "    words3 = raw_sentences[i*4+3].split()\n",
    "    attribute_two = words3[0][:-1]\n",
    "    attribute_two_words = words3[1:]\n",
    "    \n",
    "    target_attribute(target_one,target_two, target_one_words, attribute_one,attribute_two, attribute_one_words, target_two_words, attribute_two_words)"
   ]
  }
 ],
 "metadata": {
  "kernelspec": {
   "display_name": "Python 3 (ipykernel)",
   "language": "python",
   "name": "python3"
  },
  "language_info": {
   "codemirror_mode": {
    "name": "ipython",
    "version": 3
   },
   "file_extension": ".py",
   "mimetype": "text/x-python",
   "name": "python",
   "nbconvert_exporter": "python",
   "pygments_lexer": "ipython3",
   "version": "3.9.6"
  }
 },
 "nbformat": 4,
 "nbformat_minor": 2
}
