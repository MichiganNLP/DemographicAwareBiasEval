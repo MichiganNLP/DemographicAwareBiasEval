{
 "cells": [
  {
   "cell_type": "code",
   "execution_count": null,
   "id": "8346ea7b",
   "metadata": {},
   "outputs": [],
   "source": [
    "import pandas as pd \n",
    "\n",
    "df = pd.read_csv(\"Region_a.csv\")"
   ]
  },
  {
   "cell_type": "code",
   "execution_count": null,
   "id": "84de2976",
   "metadata": {},
   "outputs": [],
   "source": [
    "eq = [[\"monastery\", \"convent\"], [\"spokesman\", \"spokeswoman\"], [\"Catholic_priest\", \"nun\"], [\"Dad\", \"Mom\"], [\"Men\", \"Women\"], [\"councilman\", \"councilwoman\"], [\"grandpa\", \"grandma\"], [\"grandsons\", \"granddaughters\"], [\"prostate_cancer\", \"ovarian_cancer\"], [\"testosterone\", \"estrogen\"], [\"uncle\", \"aunt\"], [\"wives\", \"husbands\"], [\"Father\", \"Mother\"], [\"Grandpa\", \"Grandma\"], [\"He\", \"She\"], [\"boy\", \"girl\"], [\"boys\", \"girls\"], [\"brother\", \"sister\"], [\"brothers\", \"sisters\"], [\"businessman\", \"businesswoman\"], [\"chairman\", \"chairwoman\"], [\"colt\", \"filly\"], [\"congressman\", \"congresswoman\"], [\"dad\", \"mom\"], [\"dads\", \"moms\"], [\"dudes\", \"gals\"], [\"ex_girlfriend\", \"ex_boyfriend\"], [\"father\", \"mother\"], [\"fatherhood\", \"motherhood\"], [\"fathers\", \"mothers\"], [\"fella\", \"granny\"], [\"fraternity\", \"sorority\"], [\"gelding\", \"mare\"], [\"gentleman\", \"lady\"], [\"gentlemen\", \"ladies\"], [\"grandfather\", \"grandmother\"], [\"grandson\", \"granddaughter\"], [\"he\", \"she\"], [\"himself\", \"herself\"], [\"his\", \"her\"], [\"king\", \"queen\"], [\"kings\", \"queens\"], [\"male\", \"female\"], [\"males\", \"females\"], [\"man\", \"woman\"], [\"men\", \"women\"], [\"nephew\", \"niece\"], [\"prince\", \"princess\"], [\"schoolboy\", \"schoolgirl\"], [\"son\", \"daughter\"], [\"sons\", \"daughters\"], [\"twin_brother\", \"twin_sister\"]]"
   ]
  },
  {
   "cell_type": "code",
   "execution_count": null,
   "id": "8971c4a3",
   "metadata": {},
   "outputs": [],
   "source": [
    "male = []\n",
    "for i in eq:\n",
    "    male.append(i[0])\n",
    "female = []\n",
    "for i in eq:\n",
    "    female.append(i[1])"
   ]
  },
  {
   "cell_type": "code",
   "execution_count": null,
   "id": "8fb7b256",
   "metadata": {},
   "outputs": [],
   "source": [
    "p_clean = []\n",
    "\n",
    "for w in df.Text.values:\n",
    "    desc = w.lower()\n",
    "    p_clean.append(desc)"
   ]
  },
  {
   "cell_type": "code",
   "execution_count": null,
   "id": "09eca9be",
   "metadata": {},
   "outputs": [],
   "source": [
    "#context wise data points, +- 30 words\n",
    "import re \n",
    "\n",
    "male_aligned = []\n",
    "       \n",
    "for i in p_clean:\n",
    "    k = [w for w in male if re.search(r'\\b{}\\b'.format(re.escape(w)), str(i))]\n",
    "    \n",
    "#     print(k)\n",
    "    if len(k) > 0:\n",
    "        for a in k:\n",
    "            ss = str(a)\n",
    "#             print(ss)\n",
    "            spl = i.split(' ')\n",
    "            if a in spl:\n",
    "                x = spl.index(a)\n",
    "\n",
    "                male_aligned.append(' '.join(spl[x-30:x+30]))\n",
    "\n",
    "\n",
    "female_aligned = []\n",
    "\n",
    "for i in p_clean:\n",
    "    k = [w for w in female if re.search(r'\\b{}\\b'.format(re.escape(w)), str(i))]\n",
    "    if len(k) > 0:\n",
    "        for a in k:\n",
    "            ss = str(a)\n",
    "#             print(ss)\n",
    "            spl = i.split(' ')\n",
    "            if a in spl:\n",
    "                x = spl.index(a)\n",
    "\n",
    "                female_aligned.append(' '.join(spl[x-30:x+30]))"
   ]
  },
  {
   "cell_type": "code",
   "execution_count": null,
   "id": "493d1312",
   "metadata": {},
   "outputs": [],
   "source": [
    "common =  list(set(male_aligned).intersection(female_aligned)) # remove common elements \n",
    "\n",
    "male_aligned1 = [x for x in male_aligned if x not in common]\n",
    "female_aligned1 = [x for x in female_aligned if x not in common]"
   ]
  },
  {
   "cell_type": "code",
   "execution_count": null,
   "id": "c7b16d34",
   "metadata": {},
   "outputs": [],
   "source": [
    "pd.DataFrame(female_aligned1).to_csv(\"Female_aligned_data.csv\")\n",
    "pd.DataFrame(male_aligned1).to_csv(\"Male_aligned_data.csv\")"
   ]
  }
 ],
 "metadata": {
  "kernelspec": {
   "display_name": "Python 3 (ipykernel)",
   "language": "python",
   "name": "python3"
  },
  "language_info": {
   "codemirror_mode": {
    "name": "ipython",
    "version": 3
   },
   "file_extension": ".py",
   "mimetype": "text/x-python",
   "name": "python",
   "nbconvert_exporter": "python",
   "pygments_lexer": "ipython3",
   "version": "3.9.6"
  }
 },
 "nbformat": 4,
 "nbformat_minor": 5
}
