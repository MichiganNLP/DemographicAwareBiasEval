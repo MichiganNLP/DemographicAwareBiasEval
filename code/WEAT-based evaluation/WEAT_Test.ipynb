{
 "cells": [
  {
   "cell_type": "code",
   "execution_count": 1,
   "metadata": {},
   "outputs": [],
   "source": [
    "import pickle\n",
    "from gensim.models import FastText\n",
    "from gensim.models import Word2Vec\n",
    "from gensim.test.utils import common_texts\n",
    "import sklearn.manifold\n",
    "import numpy as np\n",
    "import pandas as pd\n",
    "import re\n",
    "import multiprocessing\n",
    "from nltk.corpus import stopwords\n",
    "from nltk.stem import PorterStemmer\n",
    "from gensim.models.doc2vec import Doc2Vec, TaggedDocument\n",
    "stop_words = set(stopwords.words('english'))\n",
    "ps = PorterStemmer()\n",
    "from sklearn.metrics.pairwise import cosine_similarity\n",
    "from collections import Counter\n",
    "import matplotlib.pyplot as plt \n",
    "import seaborn as sns\n",
    "import time\n",
    "import collections"
   ]
  },
  {
   "cell_type": "code",
   "execution_count": 22,
   "metadata": {},
   "outputs": [],
   "source": [
    "file = open(\"weat_oc.txt\", \"r\" ) \n",
    "file=file.read()"
   ]
  },
  {
   "cell_type": "code",
   "execution_count": 3,
   "metadata": {},
   "outputs": [
    {
     "name": "stderr",
     "output_type": "stream",
     "text": [
      "[nltk_data] Downloading package punkt to /home/anganab/nltk_data...\n",
      "[nltk_data]   Package punkt is already up-to-date!\n"
     ]
    },
    {
     "data": {
      "text/plain": [
       "True"
      ]
     },
     "execution_count": 3,
     "metadata": {},
     "output_type": "execute_result"
    }
   ],
   "source": [
    "import nltk\n",
    "nltk.download('punkt')"
   ]
  },
  {
   "cell_type": "code",
   "execution_count": 4,
   "metadata": {},
   "outputs": [],
   "source": [
    "import nltk \n",
    "tokenizer = nltk.data.load('tokenizers/punkt/english.pickle')\n",
    "raw_sentences = tokenizer.tokenize(file.lower())"
   ]
  },
  {
   "cell_type": "code",
   "execution_count": 5,
   "metadata": {},
   "outputs": [
    {
     "data": {
      "text/plain": [
       "[\"religious beliefs and figures: 'god', 'gods', 'bible', 'mankind', 'faith', 'christ', 'spiritual', 'christian', 'religion', 'jesus'.\",\n",
       " \"family relationships: 'mum', 'mother', 'mom', 'mums', 'parent', 'family', 'parents', 'baby', 'dad', 'father'.\",\n",
       " \"male_terms: male, man, boy, brother, he, him, his, son, 'manaia', 'tane', 'kai', 'ariki', 'mika', 'koa', 'rangi', 'kane', 'tama', 'hemi'.\",\n",
       " \"female_terms: sister, mother, aunt, grandmother, daughter, she, hers, her, 'aroha', 'moana', 'tui', 'lani', 'kahurangi', 'ariana', 'malie', 'marama', 'ava', 'kaia'.\",\n",
       " \"music record and artists: 'music', 'album', 'albums', 'jazz', 'songs', 'hits', 'musicians', 'artists', 'recordings', 'blues'.\",\n",
       " \"woordworking plans and projects: 'plans', 'furniture', 'woodwork', 'wood', 'woodcraft', 'woodworking', 'plywood', 'carpentry', 'cabinets', 'wooden'.\",\n",
       " \"male_terms: male, man, boy, brother, he, him, his, son, 'manaia', 'tane', 'kai', 'ariki', 'mika', 'koa', 'rangi', 'kane', 'tama', 'hemi'.\",\n",
       " \"female_terms: sister, mother, aunt, grandmother, daughter, she, hers, her, 'aroha', 'moana', 'tui', 'lani', 'kahurangi', 'ariana', 'malie', 'marama', 'ava', 'kaia'.\",\n",
       " \"building and designing boats: 'boatbuilder', 'boatbuilding', 'boats', 'plans', 'boat', 'sauceboat', 'sailboat', 'build', 'catamaran', 'kits'.\",\n",
       " \"weight loss and nutrition for women: 'diet', 'workout', 'exercise', 'foods', 'weight', 'food', 'eating', 'healthy', 'pounds', 'fat'.\",\n",
       " \"male_terms: male, man, boy, brother, he, him, his, son, 'manaia', 'tane', 'kai', 'ariki', 'mika', 'koa', 'rangi', 'kane', 'tama', 'hemi'.\",\n",
       " \"female_terms: sister, mother, aunt, grandmother, daughter, she, hers, her, 'aroha', 'moana', 'tui', 'lani', 'kahurangi', 'ariana', 'malie', 'marama', 'ava', 'kaia'.\",\n",
       " \"superheroes and their universes: 'superhero', 'superheroes', 'avengers', 'marvel', 'comics', 'superman', 'aquaman', 'heroes', 'comic', 'hero'.\",\n",
       " \"exercises for hormone development: 'hormones', 'weightlifting', 'workouts', 'deadlifts', 'hormonal', 'exercises', 'lifting', 'testosterone', 'fitness', 'squats'.\",\n",
       " \"male_terms: male, man, boy, brother, he, him, his, son, 'manaia', 'tane', 'kai', 'ariki', 'mika', 'koa', 'rangi', 'kane', 'tama', 'hemi'.\",\n",
       " \"female_terms: sister, mother, aunt, grandmother, daughter, she, hers, her, 'aroha', 'moana', 'tui', 'lani', 'kahurangi', 'ariana', 'malie', 'marama', 'ava', 'kaia'.\",\n",
       " \"building and designing boats: 'boatbuilder', 'boatbuilding', 'boats', 'plans', 'boat', 'sauceboat', 'sailboat', 'build', 'catamaran', 'kits'.\",\n",
       " \"kids' furniture and decor: 'furniture', 'chairs', 'sofas', 'ikea', 'sofa', 'cushions', 'sectional', 'upholstered', 'couch', 'childrens'.\",\n",
       " \"male_terms: male, man, boy, brother, he, him, his, son, 'manaia', 'tane', 'kai', 'ariki', 'mika', 'koa', 'rangi', 'kane', 'tama', 'hemi'.\",\n",
       " \"female_terms: sister, mother, aunt, grandmother, daughter, she, hers, her, 'aroha', 'moana', 'tui', 'lani', 'kahurangi', 'ariana', 'malie', 'marama', 'ava', 'kaia'.\"]"
      ]
     },
     "execution_count": 5,
     "metadata": {},
     "output_type": "execute_result"
    }
   ],
   "source": [
    "raw_sentences"
   ]
  },
  {
   "cell_type": "code",
   "execution_count": 21,
   "metadata": {
    "scrolled": true
   },
   "outputs": [],
   "source": [
    "import pandas as pd \n",
    "\n",
    "# df1 = pd.read_csv(\"GeoWAC_NA.csv\")\n",
    "df1 = pd.read_csv(\"un_oc.csv\")\n",
    "\n",
    "# df2 = pd.read_csv(\"Female_aligned_asia_itr2_52pairs_30context.csv\")"
   ]
  },
  {
   "cell_type": "code",
   "execution_count": null,
   "metadata": {},
   "outputs": [],
   "source": [
    "df1.fillna(\"\", inplace=True) \n",
    "df1['st'] = df1['post'] + df1['title']"
   ]
  },
  {
   "cell_type": "code",
   "execution_count": 7,
   "metadata": {},
   "outputs": [
    {
     "data": {
      "text/plain": [
       "(233, 5)"
      ]
     },
     "execution_count": 7,
     "metadata": {},
     "output_type": "execute_result"
    }
   ],
   "source": [
    "df1.shape"
   ]
  },
  {
   "cell_type": "code",
   "execution_count": 86,
   "metadata": {},
   "outputs": [],
   "source": [
    "df1 = df1[:500]"
   ]
  },
  {
   "cell_type": "code",
   "execution_count": 8,
   "metadata": {},
   "outputs": [],
   "source": [
    "file_ = list(df1.text.values)"
   ]
  },
  {
   "cell_type": "code",
   "execution_count": 9,
   "metadata": {},
   "outputs": [],
   "source": [
    "file2 = ''.join(map(str, file_))"
   ]
  },
  {
   "cell_type": "code",
   "execution_count": 10,
   "metadata": {},
   "outputs": [
    {
     "data": {
      "text/plain": [
       "'\\ufeff'"
      ]
     },
     "execution_count": 10,
     "metadata": {},
     "output_type": "execute_result"
    }
   ],
   "source": [
    "file2[0]"
   ]
  },
  {
   "cell_type": "code",
   "execution_count": 11,
   "metadata": {},
   "outputs": [],
   "source": [
    "#Split the corpus into sentences\n",
    "tokenizer = nltk.data.load('tokenizers/punkt/english.pickle')\n",
    "raw_sentences2 = tokenizer.tokenize(file2)"
   ]
  },
  {
   "cell_type": "code",
   "execution_count": 12,
   "metadata": {},
   "outputs": [
    {
     "name": "stdout",
     "output_type": "stream",
     "text": [
      "Corpus is now 3834740 characters long\n"
     ]
    }
   ],
   "source": [
    "print(\"Corpus is now {0} characters long\".format(len(file2)))"
   ]
  },
  {
   "cell_type": "code",
   "execution_count": 13,
   "metadata": {},
   "outputs": [],
   "source": [
    "#convert into a list of words\n",
    "#remove unnecessary, split into words, no hyphens\n",
    "#list of words\n",
    "def sentence_to_wordlist(raw):\n",
    "    clean=re.sub('[\\n]',' ',raw.lower())\n",
    "    clean = re.sub(\"[^a-zA-Z]\",\" \", raw.lower())\n",
    "    words = clean.split()\n",
    "    #words = [ps.stem(w) for w in words if not w in stop_words]  \n",
    "    words = [w for w in words if not w in stop_words] \n",
    "    return words"
   ]
  },
  {
   "cell_type": "code",
   "execution_count": 14,
   "metadata": {},
   "outputs": [],
   "source": [
    "#sentence where each word is tokenized\n",
    "sentences = []\n",
    "for raw_sentence in raw_sentences2:\n",
    "    if len(raw_sentence) > 0:\n",
    "        sentences.append(sentence_to_wordlist(raw_sentence))\n",
    "#print(sentences[1])"
   ]
  },
  {
   "cell_type": "code",
   "execution_count": 15,
   "metadata": {
    "scrolled": true
   },
   "outputs": [
    {
     "name": "stdout",
     "output_type": "stream",
     "text": [
      "The corpus contains 326,643 tokens\n"
     ]
    }
   ],
   "source": [
    "token_count = sum([len(sentence) for sentence in sentences])\n",
    "print(\"The corpus contains {0:,} tokens\".format(token_count))"
   ]
  },
  {
   "cell_type": "code",
   "execution_count": 16,
   "metadata": {},
   "outputs": [],
   "source": [
    "def getWordList(sentences,minCount):\n",
    "    wordList = []\n",
    "    count = Counter()\n",
    "    for sentence in sentences:\n",
    "        for word in sentence:\n",
    "            count[word] += 1\n",
    "    for word,c in count.items():\n",
    "        if c >= minCount:\n",
    "            wordList.append(word)\n",
    "    return wordList"
   ]
  },
  {
   "cell_type": "code",
   "execution_count": 17,
   "metadata": {},
   "outputs": [
    {
     "name": "stdout",
     "output_type": "stream",
     "text": [
      "['mr', 'president', 'steps', 'lead', 'podium', 'speaking', 'united', 'nations', 'general', 'assembly', 'always', 'great', 'honour', 'privilege', 'today', 'take', 'added', 'significance', 'delegation', 'pleasure', 'conveying', 'government', 'people', 'federal', 'republic', 'nigeria', 'congratulations', 'best', 'wishes', 'unanimous', 'election', 'forty', 'fourth', 'session', 'furthermore', 'personal', 'message', 'father', 'prime', 'minister', 'vanuatu', 'regards', 'friend', 'man', 'knows', 'proud', 'son', 'also', 'recall', 'title', 'chief', 'upon', 'ceremony', 'visit', 'made', 'capacity', 'chairman', 'special', 'committee', 'apartheid', 'thus', 'pride', 'shared', 'resist', 'sake', 'life', 'repeating', 'many', 'words', 'already', 'spoken', 'praise', 'diplomatic', 'experience', 'skills', 'instead', 'merely', 'associate', 'sentiments', 'express', 'prefer', 'draw', 'attention', 'four', 'us', 'privileged', 'know', 'personally', 'find', 'appropriate', 'describing', 'sincerity', 'courage', 'dignity', 'integrity', 'qualities', 'make', 'country', 'africa', 'cherish', 'join', 'tribute', 'paid', 'group', 'african', 'states', 'particularly', 'governments', 'egypt', 'external', 'affairs', 'addressed', 'expressed', 'gratitude', 'consensus', 'led', 'moving', 'appreciation', 'heard', 'address', 'dear', 'brother', 'paul', 'permanent', 'representative', 'occasion', 'concur', 'usual', 'welcome', 'secretary', 'distinguished', 'new', 'poet', 'wish', 'well', 'congratulate', 'predecessor', 'caputo', 'former', 'foreign', 'argentina', 'job', 'done', 'presidency', 'certain', 'historic', 'developments', 'contributed', 'atmosphere', 'must', 'profit', 'efforts', 'strengthen', 'prospects', 'justice', 'lasting', 'world', 'peace', 'doubt', 'real', 'sense', 'current', 'international', 'climate', 'far', 'better', 'ever', 'within', 'lifetime', 'planet', 'chance', 'finally', 'cross', 'threshold', 'ensure', 'mankind', 'nuclear', 'conflict', 'two', 'super', 'powers', 'destroy', 'none', 'less', 'major', 'problems', 'continue', 'plague', 'believe', 'essential', 'process', 'building', 'preserving', 'every', 'woman', 'child', 'corner', 'globe', 'applaud', 'openness', 'mutual', 'respect', 'generally', 'characterize', 'relations', 'soviet', 'union', 'however', 'would', 'true', 'history', 'forget', 'things', 'consequences', 'post', 'second', 'war', 'antagonisms', 'countries', 'result', 'old', 'contradictions', 'grievances', 'cold', 'imperfections', 'human', 'species', 'various', 'institutions', 'shaped', 'observer', 'often', 'build', 'deploy', 'powerful', 'weapons', 'mass', 'destruction', 'nature', 'demonstrated', 'repeated', 'could', 'hurricanes', 'cyclones', 'earthquakes', 'floods', 'droughts', 'gave', 'enough', 'death', 'devastation', 'wanted', 'developed', 'silent', 'chemical', 'bacteriological', 'agents', 'disease', 'satisfy', 'might', 'inflict', 'pain', 'suffering', 'beings', 'drugs', 'revealed', 'eventually', 'consumers', 'become', 'material', 'wealth', 'little', 'regard', 'future', 'responded', 'violation', 'environment', 'way', 'scarce', 'earth', 'resources', 'ability', 'support', 'sustain', 'energy', 'deny', 'humanity', 'others', 'differences', 'religious', 'beliefs', 'cultural', 'language', 'gender', 'repeatedly', 'cannot', 'forever', 'time', 'realize', 'one', 'shall', 'philippines', 'spoke', 'poor', 'september', 'eloquently', 'stated', 'among', 'born', 'original', 'sin', 'debt', 'pv', 'p', 'reality', 'fact', 'developing', 'owes', 'trillion', 'without', 'hope', 'reached', 'unmanageable', 'proportions', 'continues', 'grow', 'apparent', 'end', 'sight', 'hard', 'pressed', 'recent', 'meeting', 'discussion', 'crisis', 'aspects', 'appeal', 'economic', 'played', 'prominent', 'role', 'encouraging', 'signs', 'urgency', 'begun', 'day', 'problem', 'left', 'unresolved', 'comprehensive', 'fashion', 'community', 'nearer', 'potentially', 'devastating', 'social', 'ills', 'actions', 'action', 'naturally', 'shoulder', 'fair', 'share', 'responsibility', 'exists', 'economies', 'deteriorating', 'terms', 'trade', 'characterized', 'severely', 'commodity', 'prices', 'reverse', 'flows', 'capital', 'increasing', 'protectionist', 'pressures', 'appeals', 'matter', 'greater', 'fiscal', 'restraint', 'needed', 'certainly', 'expense', 'disadvantaged', 'immoral', 'ironically', 'first', 'counsel', 'adoption', 'rather', 'severe', 'restraints', 'sectors', 'last', 'adopt', 'comes', 'military', 'expenditures', 'methods', 'difficult', 'obtain', 'sufficient', 'develop', 'infrastructure', 'usually', 'easier', 'fuel', 'excessive', 'considerable', 'maintaining', 'elaborate', 'imagined', 'another', 'manageable', 'insidious', 'foe', 'threaten', 'regardless', 'size', 'power', 'professed', 'respects', 'border', 'set', 'laws', 'boundaries', 'decency', 'brutal', 'principled', 'earlier', 'traffic', 'known', 'slave', 'poses', 'clear', 'present', 'danger', 'contemporary', 'civilized', 'society', 'attempts', 'corrupt', 'engage', 'deserve', 'neither', 'sympathy', 'evil', 'confronted', 'means', 'disposal', 'generations', 'decent', 'latter', 'genocide', 'later', 'tribunals', 'crimes', 'colombia', 'presents', 'challenge', 'fail', 'meet', 'allow', 'stand', 'alone', 'confrontation', 'written', 'modern', 'civilization', 'delivered', 'moved', 'let', 'fight', 'respective', 'peoples', 'children', 'young', 'raised', 'section', 'host', 'city', 'recently', 'news', 'crafted', 'work', 'striking', 'tragic', 'event', 'occurred', 'neighbourhood', 'play', 'centres', 'act', 'racial', 'violence', 'raw', 'emotions', 'conclusion', 'stood', 'watched', 'fatal', 'black', 'victim', 'surprised', 'reaction', 'short', 'past', 'bomb', 'going', 'die', 'like', 'standing', 'around', 'nothing', 'week', 'went', 'much', 'killing', 'author', 'theme', 'easily', 'inaction', 'face', 'drug', 'trafficking', 'watching', 'violent', 'lebanon', 'occupied', 'territories', 'palestine', 'satisfied', 'south', 'fill', 'chose', 'namibia', 'hew', 'caledonia', 'non', 'self', 'governing', 'decided', 'sovereignty', 'futures', 'note', 'portugal', 'de', 'indifferent', 'situation', 'east', 'timor', 'never', 'conditions', 'western', 'sahara', 'small', 'tend', 'overlook', 'assess', 'state', 'nearly', 'allowed', 'freely', 'determine', 'r', 'perspective', 'closer', 'shores', 'embarked', 'imaginative', 'initiative', 'prove', 'capable', 'providing', 'framework', 'genuine', 'determination', 'solution', 'trouble', 'plagued', 'pacific', 'territory', 'early', 'transition', 'independent', 'accordance', 'legitimate', 'aspirations', 'colonized', 'aligned', 'view', 'decolonisation', 'important', 'priority', 'ninth', 'summit', 'conference', 'held', 'yugoslavia', 'heads', 'reiterated', 'reaffirmed', 'commitment', 'represented', 'political', 'independence', 'specific', 'subject', 'strongly', 'urged', 'question', 'kept', 'active', 'consideration', 'internationally', 'acceptable', 'principles', 'practices', 'met', 'dialogue', 'restoration', 'calm', 'neighbouring', 'applauds', 'measures', 'taken', 'reform', 'order', 'long', 'vehicle', 'evolution', 'grateful', 'understanding', 'received', 'issue', 'easy', 'understand', 'appreciate', 'cries', 'distant', 'region', 'owing', 'constraints', 'limitations', 'respond', 'positive', 'manner', 'france', 'compassion', 'willingness', 'listen', 'bold', 'initiatives', 'effort', 'please', 'possessed', 'live', 'undertakings', 'promote', 'decolonization', 'help', 'forge', 'built', 'equality', 'scepticism', 'rulers', 'pretoria', 'despite', 'road', 'blocks', 'regime', 'prospect', 'assuming', 'rightful', 'place', 'rest', 'assure', 'lives', 'commitments', 'finds', 'doctrine', 'superiority', 'save', 'whose', 'hearts', 'minds', 'still', 'decades', 'nineteenth', 'century', 'ownership', 'socially', 'attaining', 'nelson', 'mandela', 'freer', 'freedom', 'diminished', 'broken', 'conscience', 'compromised', 'moral', 'greed', 'hatred', 'govern', 'attempted', 'impossible', 'indefinite', 'entire', 'repression', 'succeed', 'temporarily', 'success', 'lived', 'largest', 'occurring', 'soon', 'free', 'hurricane', 'eastern', 'caribbean', 'parts', 'name', 'list', 'natural', 'disasters', 'extend', 'deepest', 'condolences', 'victims', 'emergency', 'term', 'assistance', 'rebuild', 'destroyed', 'horrible', 'reason', 'seems', 'determined', 'match', 'even', 'exceed', 'destructive', 'capabilities', 'appear', 'limits', 'mourn', 'testing', 'participated', 'debate', 'greatly', 'enhanced', 'see', 'violated', 'necessary', 'loving', 'lands', 'waters', 'used', 'test', 'want', 'tested', 'pleased', 'expressions', 'concern', 'irony', 'waiting', 'voices', 'appealing', 'dumping', 'hazardous', 'materials', 'immediate', 'drift', 'net', 'fishing', 'marine', 'voice', 'equitable', 'universal', 'distribution', 'raise', 'articulate', 'strong', 'environmental', 'concerns', 'keep', 'pace', 'existing', 'awareness', 'fragile', 'supports', 'traditional', 'delicate', 'balance', 'call', 'ill', 'go', 'corners', 'needs', 'behalf', 'papua', 'guinea', 'confident', 'able', 'leadership', 'challenging', 'carried', 'efficiency', 'register', 'sincere', 'excellent', 'accomplished', 'addition', 'add', 'commendable', 'perez', 'cuellar', 'staff', 'implementing', 'programmes', 'unique', 'working', 'relaxation', 'tensions', 'resolution', 'conflicts', 'co', 'operation', 'based', 'remains', 'committed', 'playing', 'part', 'contributing', 'achieving', 'objective', 'collectively', 'advantage', 'opportunities', 'realization', 'global', 'founders', 'envisaged', 'year', 'complex', 'agenda', 'points', 'number', 'date', 'back', 'established', 'yet', 'uncertainty', 'cause', 'felt', 'including', 'direct', 'impact', 'development', 'optimism', 'believes', 'good', 'measure', 'confidence', 'dealing', 'highly', 'commends', 'javier', 'tireless', 'upholding', 'purposes', 'charter', 'satisfaction', 'report', 'records', 'resolving', 'regional', 'cambodia', 'afghanistan', 'central', 'america', 'iran', 'iraq', 'tackle', 'pressing', 'issues', 'disarmament', 'finance', 'servicing', 'rights', 'relatively', 'nevertheless', 'area', 'given', 'organizations', 'immune', 'effects', 'elsewhere', 'trends', 'economy', 'comprises', 'mainly', 'island', 'scattered', 'vast', 'ocean', 'struggle', 'survival', 'national', 'limited', 'financial', 'technical', 'available', 'keeping', 'big', 'rivalry', 'activities', 'harm', 'source', 'livelihood', 'communities', 'fish', 'since', 'actively', 'pursued', 'uncertain', 'welcomes', 'progress', 'bringing', 'administrative', 'reforms', 'agreements', 'signed', 'french', 'different', 'groups', 'change', 'possible', 'regrets', 'loss', 'jean', 'deputy', 'may', 'deaths', 'late', 'championed', 'years', 'extensive', 'outside', 'matignon', 'show', 'bring', 'changes', 'especially', 'indigenous', 'kanaks', 'leaders', 'men', 'vision', 'strength', 'wisdom', 'sacrifices', 'melanesian', 'pay', 'following', 'decision', 'december', 'therefore', 'continuing', 'monitor', 'closely', 'movement', 'administering', 'authority', 'comply', 'fully', 'obligations', 'provided', 'resolutions', 'xv', 'welcomed', 'compact', 'arrangements', 'micronesian', 'islands', 'forward', 'establishing', 'federated', 'micronesia', 'marshall', 'look', 'outstanding', 'affecting', 'palau', 'equally', 'concerned', 'protection', 'august', 'ratified', 'treaties', 'seek', 'protect', 'namely', 'zone', 'treaty', 'convention', 'package', 'together', 'fisheries', 'progressively', 'put', 'represent', 'management', 'interests', 'intends', 'partners', 'implement', 'oppose', 'continued', 'programme', 'mururoa', 'atoll', 'harmful', 'full', 'form', 'wider', 'china', 'ratify', 'three', 'protocols', 'urge', 'kingdom', 'operations', 'successful', 'agreement', 'members', 'forum', 'prepared', 'enter', 'similar', 'basis', 'returns', 'designed', 'carefully', 'manage', 'operate', 'stalled', 'negotiations', 'arrangement', 'consistent', 'declaration', 'july', 'japan', 'water', 'cease', 'completely', 'referred', 'wall', 'convinced', 'indiscriminate', 'practice', 'halted', 'increasingly', 'diminish', 'chances', 'transport', 'communications', 'improve', 'welfare', 'connections', 'agencies', 'collaborate', 'interest', 'extends', 'beyond', 'policy', 'seeks', 'expand', 'relationships', 'significant', 'towards', 'asian', 'value', 'growing', 'links', 'association', 'asean', 'impressive', 'organization', 'taking', 'constructive', 'annual', 'meetings', 'ministers', 'relationship', 'strengthened', 'accession', 'friendship', 'asia', 'said', 'items', 'quite', 'rightly', 'deal', 'reduce', 'security', 'commend', 'moscow', 'washington', 'worked', 'deep', 'reducing', 'eliminate', 'particular', 'became', 'evident', 'maintenance', 'council', 'supported', 'meaningful', 'middle', 'korean', 'peninsula', 'southern', 'signals', 'vietnamese', 'troop', 'hopes', 'entails', 'fulfilled', 'elections', 'supervised', 'identity', 'return', 'democracy', 'tranquillity', 'socio', 'formal', 'ties', 'korea', 'sad', 'democratic', 'rapidly', 'koreas', 'peaceful', 'reunification', 'urges', 'maintain', 'reconciliation', 'achieve', 'unification', 'proposals', 'contained', 'fee', 'concerning', 'sets', 'discussions', 'reiterate', 'admission', 'north', 'potential', 'open', 'additional', 'avenues', 'underlying', 'causes', 'tension', 'parties', 'involved', 'reaffirms', 'belief', 'palestinians', 'right', 'homeland', 'israel', 'exist', 'secured', 'borders', 'fundamental', 'related', 'colonial', 'imposed', 'racist', 'spite', 'numerous', 'body', 'firm', 'option', 'mandatory', 'sanctions', 'holds', 'dismantling', 'industrialized', 'structural', 'adjustment', 'policies', 'low', 'growth', 'high', 'inflation', 'liberalization', 'elimination', 'industrial', 'agricultural', 'subsidies', 'creation', 'employment', 'experienced', 'slow', 'difficulties', 'undertaken', 'stringent', 'sustainable', 'areas', 'pressure', 'exercised', 'strategic', 'export', 'commodities', 'adversely', 'influenced', 'plans', 'imperative', 'uruguay', 'round', 'distortions', 'balanced', 'market', 'pre', 'condition', 'expansion', 'stability', 'attaches', 'importance', 'aimed', 'harmony', 'protectionism', 'transfers', 'overwhelming', 'delegations', 'need', 'effectiveness', 'system', 'organisation', 'ray', 'network', 'amount', 'momentum', 'tackling', 'seeking', 'solutions', 'begin', 'warmly', 'congratulating', 'preside', 'brings', 'australia', 'inception', 'nationhood', 'close', 'aid', 'productive', 'presence', 'mark', 'fiftieth', 'anniversary', 'start', 'took', 'visited', 'beginning', 'linked', 'founding', 'sustaining', 'inspiration', 'achieved', 'sustained', 'reflect', 'ask', 'themes', 'making', 'focus', 'australian', 'contribution', 'background', 'position', 'member', 'nation', 'seen', 'giving', 'sized', 'say', 'sought', 'empower', 'fulfil', 'san', 'francisco', 'drafted', 'period', 'cast', 'shadow', 'weaken', 'west', 'dimension', 'virtually', 'contrast', 'profoundly', 'effect', 'involvement', 'record', 'changed', 'whole', 'tone', 'hall', 'makes', 'arrive', 'practical', 'outcomes', 'opened', 'door', 'serious', 'primary', 'aim', 'avoidance', 'caused', 'ignorance', 'rival', 'common', 'facts', 'intentions', 'delay', 'institute', 'approached', 'lack', 'imagination', 'finding', 'bilateral', 'party', 'identify', 'directly', 'intimately', 'ambition', 'individual', 'utilize', 'public', 'opinion', 'press', 'reasonable', 'attitudes', 'unwillingness', 'concessions', 'impartial', 'third', 'created', 'least', 'sort', 'armed', 'longer', 'found', 'main', 'procedural', 'shortcomings', 'functions', 'empowering', 'intention', 'stop', 'hostilities', 'essentially', 'preventive', 'evolved', 'f', 'motion', 'offices', 'called', 'exercise', 'duties', 'mixed', 'dark', 'days', 'point', 'use', 'veto', 'coming', 'replaced', 'search', 'responsive', 'responsible', 'recognition', 'decisive', 'timely', 'positively', 'ways', 'threats', 'undoubtedly', 'greatest', 'scope', 'enhancing', 'lies', 'improving', 'disputes', 'effective', 'reliable', 'information', 'base', 'assessments', 'recommendations', 'drawn', 'encountered', 'secretariat', 'ensuring', 'adequately', 'breaches', 'wholeheartedly', 'endorses', 'observations', 'outset', 'argued', 'encouraged', 'large', 'hayden', 'indicated', 'mediator', 'catalyst', 'dag', 'context', 'rigid', 'hostility', 'era', 'fruition', 'improved', 'willing', 'flow', 'assisted', 'consider', 'come', 'communication', 'idea', 'widely', 'hold', 'periodic', 'level', 'closed', 'exchange', 'views', 'events', 'escalate', 'usefulness', 'perhaps', 'immediately', 'inherent', 'shown', 'pursue', 'energetic', 'diplomacy', 'divisions', 'cyprus', 'example', 'demonstrate', 'recognizing', 'respecting', 'endeavours', 'recognize', 'frustrated', 'sometimes', 'debates', 'try', 'imagine', 'worse', 'lacked', 'medium', 'ate', 'collective', 'norms', 'behaviour', 'judged', 'weight', 'reflected', 'considered', 'widest', 'recommendation', 'brought', 'bear', 'living', 'token', 'consistently', 'avoid', 'manifestly', 'racism', 'acting', 'spirit', 'constructively', 'pointing', 'shift', 'renewed', 'demands', 'machinery', 'grown', 'turn', 'urgent', 'implications', 'promising', 'illustrated', 'paying', 'insufficient', 'efficiently', 'carrying', 'decisions', 'funding', 'logistical', 'questions', 'valuable', 'lost', 'deploying', 'forces', 'happen', 'obstacles', 'avoided', 'obvious', 'requires', 'prior', 'mandate', 'precise', 'adequate', 'planning', 'deployment', 'expanding', 'accorded', 'exercises', 'contributions', 'forging', 'overcome', 'delays', 'associated', 'inadequate', 'financing', 'arises', 'failure', 'mentioned', 'possibility', 'establishment', 'reserve', 'fund', 'interim', 'increase', 'million', 'along', 'founder', 'reserves', 'stage', 'access', 'funds', 'structures', 'readily', 'afford', 'exert', 'stands', 'ready', 'contribute', 'situations', 'requiring', 'services', 'senior', 'army', 'officer', 'course', 'required', 'ad', 'hoc', 'kind', 'resulted', 'looking', 'participate', 'sheer', 'imminent', 'places', 'burden', 'ordinating', 'acknowledge', 'personnel', 'matters', 'persons', 'highest', 'task', 'review', 'structure', 'desirability', 'single', 'division', 'planned', 'effectively', 'implemented', 'operational', 'basic', 'training', 'underline', 'procedures', 'followed', 'levels', 'centre', 'auspices', 'undertake', 'lines', 'recommended', 'component', 'regular', 'facilitate', 'troops', 'units', 'observers', 'notice', 'undergo', 'advance', 'supplies', 'equipment', 'tasks', 'becomes', 'sees', 'exploring', 'study', 'application', 'technology', 'aware', 'complexities', 'monitoring', 'entail', 'evaluation', 'advantages', 'disadvantages', 'useful', 'next', 'step', 'entering', 'arena', 'systematically', 'wasteful', 'repetition', 'duplication', 'sponsor', 'control', 'mechanism', 'settlement', 'sign', 'times', 'proposed', 'force', 'fire', 'withdrawal', 'cessation', 'arms', 'release', 'prisoners', 'holding', 'assisting', 'law', 'gratified', 'care', 'prepare', 'undertaking', 'mission', 'paris', 'helpful', 'precedent', 'circumstances', 'persistent', 'spots', 'customary', 'processes', 'easing', 'putting', 'guarantee', 'settle', 'complete', 'exclusively', 'reasons', 'eventual', 'outcome', 'covering', 'several', 'sit', 'await', 'multilateral', 'involve', 'indeed', 'dealt', 'foremost', 'abolition', 'geneva', 'produce', 'banning', 'production', 'stockpiling', 'untold', 'misery', 'combat', 'civilians', 'alike', 'give', 'impetus', 'weeks', 'ago', 'hosted', 'industry', 'attended', 'officials', 'representatives', 'per', 'cent', 'january', 'politically', 'concluding', 'earliest', 'canberra', 'scale', 'accompanied', 'talking', 'sooner', 'workable', 'unequivocal', 'assist', 'conclude', 'ban', 'agreed', 'establish', 'representing', 'industries', 'blocs', 'remaining', 'resolved', 'negotiation', 'implementation', 'verifiable', 'identified', 'critical', 'negotiate', 'substantive', 'frame', 'expectation', 'generated', 'get', 'otherwise', 'case', 'maintained', 'statements', 'rostrum', 'bush', 'data', 'indicate', 'firmly', 'advancing', 'successfully', 'progressive', 'stabilizing', 'reductions', 'arsenals', 'properly', 'recognized', 'vital', 'preventing', 'spread', 'dedicated', 'supporter', 'proliferation', 'existence', 'majority', 'conviction', 'dangerous', 'standards', 'preparations', 'participating', 'strengthening', 'challenges', 'emerging', 'regions', 'increased', 'membership', 'occupies', 'quest', 'fronts', 'key', 'verification', 'clearly', 'lacking', 'relevant', 'draft', 'urging', 'responsibilities', 'securing', 'objectives', 'b', 'gives', 'witness', 'remote', 'deeply', 'prevention', 'wars', 'reduction', 'armaments', 'multidimensional', 'character', 'ultimately', 'quality', 'understood', 'indivisible', 'lay', 'hardships', 'denial', 'anything', 'opening', 'bound', 'solved', 'remain', 'institution', 'cases', 'leading', 'depletion', 'ozone', 'layer', 'phenomena', 'risk', 'faced', 'poverty', 'barriers', 'simply', 'regarded', 'sources', 'gross', 'inequality', 'combating', 'terrorism', 'pose', 'fabric', 'crucial', 'range', 'humanitarian', 'promoting', 'freedoms', 'caring', 'refugees', 'eradicating', 'threatening', 'demonstrating', 'validity', 'vitality', 'herbert', 'v', 'evatt', 'summed', 'presently', 'instrument', 'avoiding', 'supreme', 'ultimate', 'catastrophe', 'waged', 'destroying', 'unemployment', 'famine', 'faith', 'leader', 'ambassador', 'presiding', 'contacts', 'zealand', 'hands', 'elected', 'labour', 'fortieth', 'celebrated', 'enthusiasm', 'looked', 'knew', 'heart', 'threatened', 'hollow', 'seemingly', 'intractable', 'almost', 'apparently', 'seemed', 'sadly', 'fears', 'proved', 'founded', 'abhorrent', 'illegal', 'occupation', 'evidence', 'ignored', 'saw', 'court', 'treated', 'cynical', 'steady', 'erosion', 'accept', 'rule', 'compulsory', 'jurisdiction', 'rainbow', 'warrior', 'incident', 'obliged', 'detail', 'york', 'picture', 'turned', 'enormous', 'cynicism', 'happened', 'examples', 'proving', 'grounds', 'marked', 'intermediate', 'conventional', 'negotiated', 'cuts', 'historical', 'opportunity', 'moment', 'judge', 'disappointed', 'plays', 'strongest', 'reconsider', 'mind', 'declared', 'defend', 'attracted', 'widespread', 'weapon', 'eliminated', 'field', 'observed', 'encouragement', 'gorbachev', 'announced', 'adopting', 'began', 'analysis', 'reinforced', 'fields', 'positions', 'mechanisms', 'refer', 'variety', 'roles', 'resolve', 'mean', 'remember', 'employees', 'environments', 'hardship', 'negotiating', 'organizing', 'serving', 'running', 'relief', 'shape', 'direction', 'home', 'feeling', 'struggling', 'indebtedness', 'elude', 'tell', 'assessment', 'larger', 'caught', 'health', 'montreal', 'protocol', 'scheduled', 'offer', 'stock', 'endorsed', 'unep', 'preparation', 'eight', 'atmospheric', 'degradation', 'fresh', 'pollution', 'oceans', 'deforestation', 'intergovernmental', 'panel', 'conferences', 'month', 'lot', 'talk', 'takes', 'ideal', 'worth', 'focused', 'accused', 'getting', 'green', 'safe', 'cost', 'anyone', 'altered', 'ecosystem', 'air', 'sea', 'land', 'barely', 'affect', 'wrought', 'havoc', 'knowledge', 'ecological', 'seriously', 'discovered', 'damaged', 'repair', 'arrest', 'answer', 'irreversible', 'catastrophic', 'outer', 'space', 'ravaged', 'ceased', 'says', 'bad', 'got', 'urgently', 'priorities', 'equal', 'devote', 'threatens', 'bit', 'gravely', 'race', 'affects', 'everyone', 'unlike', 'contributes', 'threat', 'suffer', 'recognizes', 'affected', 'innocent', 'greenhouse', 'gases', 'produced', 'economically', 'understands', 'anxiety', 'conscious', 'plight', 'discussed', 'disastrous', 'rises', 'tuvalu', 'kiribati', 'tokelau', 'learning', 'products', 'indian', 'literally', 'collapse', 'tuna', 'fishery', 'coastal', 'nets', 'employed', 'unacceptable', 'technique', 'involves', 'vessels', 'series', 'kilometres', 'length', 'vessel', 'line', 'across', 'cover', 'thousands', 'height', 'estimated', 'catch', 'vacuum', 'cleaner', 'contact', 'killed', 'wasted', 'stocks', 'rejected', 'unanimously', 'tarawa', 'adopted', 'condemning', 'legal', 'seas', 'systematic', 'assault', 'outlaw', 'unreasonable', 'responding', 'response', 'domestic', 'regulations', 'mile', 'vigorously', 'conservation', 'protected', 'prevent', 'shore', 'phenomenon', 'asked', 'document', 'pursuing', 'bilaterally', 'regionally', 'globally', 'rational', 'ecologically', 'irresponsible', 'activity', 'techniques', 'wherever', 'looks', 'inevitable', 'quickly', 'committees', 'taiwan', 'broader', 'facing', 'really', 'sound', 'antarctic', 'connection', 'remind', 'sponsored', 'consultative', 'assumed', 'limitation', 'excess', 'yield', 'commercial', 'faster', 'apply', 'regulatory', 'applying', 'frightening', 'latest', 'populations', 'wake', 'collapsed', 'alternative', 'breathe', 'halting', 'thoughts', 'dispute', 'concept', 'ecosystems', 'toxic', 'wastes', 'witnessed', 'waste', 'rain', 'desertification', 'continents', 'limiting', 'heal', 'importantly', 'restoring', 'impacts', 'extent', 'appreciated', 'ordinary', 'everywhere', 'stopped', 'thought', 'adding', 'require', 'attitude', 'netherlands', 'norway', 'march', 'focusing', 'messages', 'emissions', 'radical', 'secondly', 'institutional', 'drastically', 'reformed', 'reversed', 'unnecessary', 'governmental', 'intervention', 'medicine', 'definition', 'interventions', 'shortly', 'parliament', 'legislation', 'consumption', 'phase', 'altogether', 'thirdly', 'resource', 'relating', 'minerals', 'reforming', 'submitted', 'guiding', 'principle', 'behind', 'insignificant', 'comparison', 'overwhelmingly', 'carbon', 'dioxide', 'encourage', 'throughout', 'improvements', 'environmentally', 'allocated', 'according', 'criteria', 'proposition', 'solve', 'unless', 'simultaneously', 'ordinated', 'eradicate', 'burdens', 'extra', 'fairly', 'higher', 'stages', 'carry', 'wide', 'scientific', 'oversight', 'inter', 'ipcc', 'room', 'discussing', 'evolutionary', 'squarely', 'away', 'judgement', 'subsequently', 'something', 'innovative', 'conceptual', 'organ', 'trusteeship', 'chapters', 'chapter', 'rules', 'organs', 'binding', 'status', 'command', 'inclusion', 'envisage', 'expertise', 'skill', 'analyse', 'function', 'advice', 'integral', 'missing', 'link', 'equivalent', 'becoming', 'perform', 'currently', 'falls', 'mandates', 'thing', 'changing', 'cope', 'horrors', 'learned', 'repeat', 'league', 'meaning', 'wait', 'aftermath', 'disaster', 'predecessors', 'peter', 'fraser', 'statement', 'due', 'failed', 'undertook', 'recession', 'morality', 'stress', 'avail', 'endured', 'countless', 'died', 'sacrificed', 'solemn', 'reminder', 'conventions', 'final', 'scourge', 'choice', 'warmest', 'service', 'notably', 'fitting', 'thanks', 'efficient', 'mrs', 'liberia', 'discharged', 'twenty', 'colleagues', 'fifth', 'examine', 'successes', 'failures', 'merits', 'succeeded', 'paramount', 'whether', 'performance', 'emphasize', 'statesmanship', 'existed', 'unhappy', 'disturbed', 'fought', 'heavily', 'indirectly', 'dominated', 'daily', 'six', 'oppression', 'birth', 'generation', 'passionate', 'orderly', 'conduct', 'improvement', 'mood', 'disagreement', 'worldwide', 'alliance', 'victory', 'hand', 'necessarily', 'broadly', 'accommodate', 'fifty', 'reconcile', 'amongst', 'smaller', 'emerged', 'inevitably', 'product', 'compromise', 'implicit', 'explicit', 'allied', 'allies', 'unity', 'purpose', 'suspicion', 'arisen', 'succeeding', 'intensified', 'ideologies', 'turmoil', 'promotion', 'suppression', 'competitive', 'outlook', 'ideology', 'prevented', 'performing', 'intended', 'hopefully', 'vii', 'assume', 'deplore', 'costs', 'peacekeeping', 'equitably', 'spared', 'explanation', 'rapid', 'contemplate', 'win', 'claim', 'credit', 'safety', 'forced', 'explain', 'justify', 'five', 'type', 'newly', 'wholly', 'bleak', 'congo', 'truce', 'teams', 'considerably', 'strains', 'achievement', 'th', 'indicates', 'residual', 'expectations', 'surely', 'reputation', 'degree', 'enjoys', 'helping', 'depend', 'factors', 'money', 'mediation', 'missions', 'commission', 'indonesia', 'substantial', 'observation', 'supervision', 'formulate', 'financed', 'faithful', 'devoted', 'painful', 'constant', 'complexity', 'armament', 'difficulty', 'excuse', 'thinking', 'academic', 'realities', 'protracted', 'vitally', 'dangers', 'vary', 'advent', 'terror', 'forcibly', 'vulnerable', 'accident', 'concentrate', 'instance', 'controlling', 'containing', 'aggression', 'include', 'acts', 'came', 'unhappily', 'expect', 'familiar', 'contrary', 'xxii', 'barrier', 'indications', 'talks', 'placing', 'seabed', 'text', 'gain', 'fourthly', 'near', 'biological', 'influences', 'preserve', 'served', 'measured', 'dependent', 'statehood', 'half', 'sections', 'covenant', 'ground', 'introduced', 'guidance', 'experiences', 'accepted', 'goal', 'expression', 'drafting', 'profound', 'targets', 'remained', 'metropolitan', 'willingly', 'generously', 'complementary', 'lengthy', 'bitter', 'acceptance', 'sides', 'mutually', 'satisfactory', 'transfer', 'reflecting', 'liberal', 'speak', 'briefly', 'describe', 'continent', 'approximately', 'square', 'miles', 'population', 'quarter', 'unit', 'exceptionally', 'successive', 'waves', 'migration', 'centuries', 'divided', 'ethnic', 'languages', 'drawing', 'reports', 'twelve', 'months', 'inalienable', 'termination', 'visiting', 'seventh', 'honor', 'admitted', 'approved', 'participation', 'presume', 'entitled', 'think', 'ordered', 'offered', 'apart', 'considering', 'representation', 'situated', 'southeast', 'longterm', 'plenty', 'influence', 'office', 'emphasized', 'neighbors', 'communist', 'accommodation', 'peking', 'anxious', 'constantly', 'run', 'feature', 'treatment', 'account', 'grave', 'guaranteed', 'claimed', 'chosen', 'isolate', 'optimistic', 'entry', 'gravest', 'reflection', 'vietnam', 'debated', 'else', 'understandable', 'fearful', 'losses', 'suffered', 'naked', 'reflects', 'totally', 'unfair', 'criticism', 'compelled', 'endure', 'internal', 'defiance', 'precisely', 'intimidation', 'whatever', 'devices', 'liberation', 'meantime', 'boundary', 'persuaded', 'withdraw', 'demilitarized', 'spillover', 'neighboring', 'laos', 'sure', 'decade', 'stable', 'thereby', 'unwanted', 'kinds', 'blatant', 'neutrality', 'djakarta', 'enlarged', 'territorial', 'accurately', 'forcefully', 'capitals', 'selected', 'sincerely', 'criminal', 'civil', 'aircraft', 'extremely', 'detailed', 'comments', 'topic', 'tremendous', 'physical', 'advances', 'science', 'benefits', 'side', 'cooperation', 'raising', 'continuously', 'beneficial', 'minimize', 'technological', 'devise', 'proceed', 'spheres', 'regret', 'uses', 'liability', 'damage', 'favor', 'provide', 'prompt', 'compensation', 'dangerously', 'ahead', 'comprising', 'concepts', 'ones', 'systems', 'differing', 'competing', 'coherent', 'introduction', 'intensive', 'rise', 'heritage', 'hoped', 'lessons', 'puts', 'fruits', 'appointed', 'completed', 'reminded', 'forums', 'programs', 'ministerial', 'tokyo', 'valid', 'approach', 'desire', 'substantially', 'inform', 'significantly', 'budget', 'provides', 'official', 'private', 'competence', 'mostly', 'grants', 'previous', 'regarding', 'aspect', 'program', 'mention', 'flexibility', 'aims', 'donor', 'tendency', 'preoccupation', 'dates', 'reaching', 'target', 'defined', 'ii', 'specifically', 'acknowledges', 'importing', 'overall', 'donors', 'total', 'returning', 'proceedings', 'submerged', 'accumulation', 'paper', 'cry', 'david', 'chair', 'mere', 'fault', 'though', 'secretarygeneral', 'signing', 'brazil', 'frustrations', 'lose', 'nasser', 'yesterday', 'figures', 'helped', 'arab', 'american', 'awaited', 'generous', 'prevail', 'troubled', 'sir', 'advancement', 'symbol', 'placed', 'assertion', 'welcoming', 'fiji', 'associations', 'features', 'foreseen', 'neglected', 'backdrop', 'piracy', 'subjected', 'treat', 'using', 'conjunction', 'remarkable', 'age', 'epidemic', 'condoned', 'suggest', 'ingenuity', 'serve', 'ends', 'hundreds', 'posed', 'advanced', 'pledge', 'irrespective', 'nationality', 'trial', 'tribunal', 'aviation', 'accelerate', 'revolution', 'dimensions', 'perceived', 'universally', 'vigor', 'conserve', 'isolated', 'geographical', 'acute', 'populated', 'risks', 'stockholm', 'specialized', 'fewer', 'ten', 'surrounded', 'continental', 'shelf', 'stake', 'relate', 'benefit', 'overriding', 'taught', 'continuous', 'goals', 'realistic', 'readiness', 'strict', 'relation', 'exports', 'factor', 'borne', 'forthcoming', 'approaching', 'aspiration', 'obviously', 'groupings', 'amply', 'caution', 'grouping', 'inhibit', 'restrictive', 'theoretical', 'seeing', 'european', 'markets', 'british', 'represents', 'safeguards', 'enable', 'appreciates', 'drive', 'europe', 'enlarging', 'producers', 'driven', 'shortages', 'food', 'remarks', 'mistake', 'suggested', 'inability', 'stressed', 'traditionally', 'eloquent', 'patient', 'cautious', 'temporary', 'minimum', 'extension', 'ceasefire', 'resumption', 'endeavors', 'honest', 'november', 'asks', 'choose', 'refused', 'tried', 'bases', 'head', 'alarmed', 'unable', 'persuade', 'vote', 'cambodian', 'demanded', 'attack', 'expanded', 'fighting', 'entirely', 'either', 'launched', 'impunity', 'surrounding', 'survive', 'supporters', 'noted', 'previously', 'moderation', 'condemned', 'demonstration', 'solidarity', 'persist', 'hostile', 'quarters', 'substitute', 'heavy', 'continuation', 'indochina', 'collaboration', 'fate', 'stronger', 'restore', 'indifference', 'heed', 'duty', 'red', 'inhumanity', 'displayed', 'item', 'discharge', 'leads', 'permit', 'examination', 'enemy', 'modest', 'innovations', 'joined', 'sponsoring', 'rationalization', 'ideas', 'rich', 'functioning', 'originally', 'contemplated', 'frequently', 'suggests', 'reviewing', 'inscription', 'abiding', 'bodies', 'ensured', 'meaningfully', 'restricted', 'initiate', 'circle', 'remedied', 'pointed', 'reference', 'l', 'stem', 'borrowing', 'dollars', 'assessed', 'gesture', 'footing', 'rate', 'managed', 'forms', 'presentation', 'studies', 'object', 'expenditure', 'consolidation', 'wants', 'budgetary', 'blame', 'lie', 'largely', 'ineffective', 'legislative', 'subsidiary', 'solely', 'sole', 'desirable', 'consequence', 'plea', 'estimates', 'reach', 'absence', 'healthy', 'administration', 'pervasive', 'struck', 'adjust', 'london', 'stories', 'goes', 'necessity', 'stature', 'john', 'ashe', 'guide', 'deliberations', 'faces', 'excellency', 'jeremi', 'sixty', 'combination', 'crises', 'prosperity', 'drought', 'warming', 'presented', 'unprecedented', 'transform', 'coordinated', 'reinforcing', 'deliver', 'concrete', 'results', 'rhetoric', 'skilled', 'fear', 'ambitions', 'transformational', 'works', 'fixed', 'undermine', 'experts', 'monetary', 'promoted', 'governance', 'ventures', 'livelihoods', 'currency', 'property', 'leave', 'investments', 'compete', 'renewable', 'reckless', 'bubble', 'thirds', 'fossil', 'limit', 'temperatures', 'degrees', 'fallen', 'fuels', 'investment', 'exploration', 'millions', 'complicated', 'prioritize', 'concede', 'transparency', 'surprise', 'bretton', 'woods', 'inclusive', 'systemic', 'formidable', 'nauru', 'project', 'flexible', 'modalities', 'accessing', 'frankly', 'strategy', 'conducting', 'design', 'durable', 'advocate', 'upcoming', 'cop', 'foundation', 'ambitious', 'starting', 'mitigation', 'launch', 'guided', 'aosis', 'collaborative', 'technologies', 'gas', 'proposal', 'obligation', 'addressing', 'accountable', 'adaptation', 'accomplish', 'mobilizing', 'unavoidable', 'calling', 'appointment', 'regularly', 'equipped', 'resilience', 'invaluable', 'asset', 'requesting', 'joint', 'anticipated', 'destabilizing', 'preparing', 'immense', 'syria', 'syrian', 'atrocity', 'tiny', 'minority', 'primarily', 'striving', 'partner', 'projects', 'delivering', 'solid', 'strait', 'interaction', 'millennium', 'russian', 'federation', 'india', 'aptly', 'described', 'setting', 'frank', 'tools', 'warm', 'greetings', 'echo', 'speakers', 'eighth', 'stewardship', 'ki', 'moon', 'journey', 'steering', 'diverse', 'myriad', 'heartened', 'humbled', 'hear', 'stark', 'front', 'gather', 'transnational', 'organized', 'crime', 'pakistan', 'ample', 'societies', 'families', 'barbaric', 'terrorist', 'ongoing', 'appropriately', 'individuals', 'entrusted', 'secure', 'family', 'rests', 'depends', 'convey', 'existential', 'mine', 'peril', 'confronting', 'breath', 'humankind', 'grandchildren', 'inherited', 'scientists', 'reaffirm', 'calamity', 'lying', 'experiencing', 'warning', 'abuse', 'eye', 'acknowledging', 'warrants', 'announcement', 'convene', 'copenhagen', 'mobilize', 'remedy', 'mitigate', 'emitters', 'delivery', 'sidelines', 'charge', 'strategies', 'finalized', 'bank', 'habitable', 'migrate', 'track', 'diverted', 'rising', 'storm', 'surges', 'homes', 'costly', 'rely', 'goodwill', 'samoa', 'maldives', 'highlighted', 'discuss', 'disproportionate', 'double', 'subsistence', 'valued', 'owners', 'receive', 'sum', 'equity', 'maximize', 'started', 'processing', 'plant', 'partnership', 'invite', 'endeavour', 'exclusive', 'reliance', 'harvest', 'pursuit', 'june', 'rio', 'janeiro', 'unfortunately', 'move', 'restructure', 'variability', 'acidification', 'business', 'comfort', 'zones', 'youth', 'women', 'accountability', 'inspire', 'excluded', 'calls', 'brutally', 'accepting', 'chart', 'path', 'honoured', 'bureau', 'transformed', 'undermining', 'enforce', 'trigger', 'whereas', 'spent', 'spectrum', 'disabilities', 'religion', 'convictions', 'platform', 'colonialism', 'imperialism', 'sessions', 'polynesia', 'juncture', 'thank', 'kanak', 'attain', 'spearhead', 'appreciative', 'socialist', 'dreams', 'brothers', 'sisters', 'selective', 'seriousness', 'fall', 'everything', 'respected', 'saying', 'translated', 'investigate', 'alleged', 'violations', 'light', 'executive', 'papuans', 'denied', 'politics', 'cancer', 'remove', 'removed', 'mistakes', 'admit', 'weak', 'alive', 'subscribe', 'enshrined', 'escape', 'ignore', 'murdered', 'fellow', 'rectify', 'maritime', 'province', 'culture', 'traditions', 'sovereign', 'governed', 'explore', 'sacred', 'uphold', 'forefathers', 'mdgs', 'rethink', 'mdg', 'integrated', 'emphasis', 'separate', 'ministry', 'unconditional', 'partnerships', 'pledges', 'unsatisfactory', 'fast', 'paradigm', 'careful', 'coupled', 'graduation', 'accompanying', 'reduced', 'spending', 'capita', 'vulnerabilities', 'plan', 'quantum', 'ports', 'roads', 'integration', 'rural', 'whereby', 'marginalized', 'empowerment', 'sexual', 'discrimination', 'submission', 'compliance', 'reporting', 'translate', 'outlined', 'insecurity', 'falling', 'blind', 'headlines', 'majuro', 'although', 'italy', 'aggressively', 'cutting', 'alongside', 'showing', 'anywhere', 'dire', 'strive', 'legacy', 'truly', 'map', 'reveals', 'blue', 'local', 'plenary', 'safeguard', 'sacrifice', 'quick', 'sale', 'punishment', 'hardly', 'rare', 'hunger', 'accordingly', 'forged', 'breaking', 'enhance', 'recover', 'flooding', 'emergencies', 'sector', 'tailored', 'passed', 'rapporteur', 'stay', 'bulk', 'extended', 'friends', 'incidents', 'expects', 'gap', 'dreadful', 'upheld', 'covenants', 'powerless', 'tragedy', 'al', 'assad', 'opposed', 'confirmed', 'unequivocally', 'convincing', 'surface', 'agent', 'conclusions', 'responds', 'russia', 'civilian', 'spend', 'emergence', 'proceeded', 'parallel', 'paved', 'proudly', 'assert', 'trading', 'located', 'hours', 'nearest', 'neighbour', 'neighbours', 'distance', 'isolation', 'preference', 'wto', 'certainty', 'attach', 'completion', 'doha', 'robust', 'transparent', 'worst', 'earthquake', 'christchurch', 'zealanders', 'dependence', 'scheme', 'investing', 'research', 'kyoto', 'covers', 'commits', 'assured', 'israeli', 'palestinian', 'viable', 'homelands', 'pays', 'abbas', 'netanyahu', 'agreeing', 'resume', 'leste', 'solomon', 'police', 'intense', 'closure', 'provincial', 'reconstruction', 'team', 'schools', 'mortality', 'rates', 'maternal', 'taliban', 'girls', 'school', 'farming', 'solar', 'electricity', 'gains', 'story', 'enjoying', 'driving', 'targeted', 'agriculture', 'subregional', 'april', 'curb', 'creating', 'eradication', 'resistance', 'rationale', 'hostage', 'composition', 'informal', 'seem', 'block', 'suit', 'credibility', 'challenged', 'advocating', 'october', 'forgotten', 'top', 'engaged', 'joining', 'numbers', 'applies', 'rwanda', 'somalia', 'yemen', 'sudan', 'credible', 'delighted', 'nine', 'thirty', 'seven', 'unbroken', 'offers', 'citizens', 'tied', 'inextricably', 'drivers', 'oriented', 'foster', 'choices', 'unilaterally', 'dismantled', 'class', 'billion', 'projected', 'lifted', 'finish', 'leaving', 'supporting', 'engaging', 'annually', 'massive', 'attract', 'replace', 'dollar', 'invested', 'lift', 'deals', 'jobs', 'pretend', 'sphere', 'h', 'forefront', 'slavery', 'torture', 'arbitrary', 'exile', 'speech', 'enjoy', 'education', 'underpinned', 'unchecked', 'destabilize', 'horrific', 'condemns', 'norm', 'deter', 'endorse', 'requirement', 'prohibition', 'backing', 'communiqu', 'annex', 'meets', 'indo', 'peacebuilding', 'ramsi', 'recruitment', 'signatories', 'plus', 'commit', 'underpins', 'centred', 'highlight', 'vibrant', 'domestically', 'transformative', 'reinforce', 'stimulating', 'indicators', 'literacy', 'enforcement', 'model', 'networks', 'churches', 'cooperative', 'create', 'enabling', 'proactive', 'friendly', 'mining', 'incentives', 'exporting', 'genuinely', 'corruption', 'zero', 'tolerance', 'anti', 'prosecute', 'pillar', 'rebuilding', 'enacted', 'announce', 'ratification', 'resettlement', 'asylum', 'jointly', 'minded', 'stakeholders', 'root', 'displacement', 'dislocation', 'smuggling', 'engagement', 'sharing', 'tonga', 'dynamic', 'bonds', 'exchanges', 'consolidate', 'relevance', 'addresses', 'extreme', 'eminent', 'initial', 'complement', 'reaffirming', 'visits', 'apia', 'reiterates', 'adverse', 'renew', 'agrees', 'agree', 'redouble', 'concluded', 'unlikely', 'enrolment', 'hiv', 'aids', 'tuberculosis', 'expresses', 'complementing', 'bougainville', 'instances', 'provisions', 'peacekeepers', 'trying', 'revitalize', 'geopolitical', 'palauan', 'flag', 'tides', 'tide', 'tropical', 'pass', 'imbalance', 'excesses', 'frustration', 'appears', 'pillars', 'reinvigorate', 'identifying', 'differentiated', 'reaffirmation', 'monterrey', 'developmental', 'focuses', 'creates', 'broad', 'tomorrow', 'planetary', 'richer', 'poorer', 'cultures', 'condemn', 'stone', 'unwilling', 'c', 'temperature', 'scenario', 'demise', 'follow', 'issued', 'responses', 'bottom', 'revive', 'distort', 'oil', 'legally', 'embrace', 'conserving', 'terrestrial', 'jurisdictions', 'inspired', 'coral', 'triangle', 'advisory', 'shark', 'sanctuary', 'simple', 'saving', 'define', 'connect', 'wind', 'measurable', 'shifting', 'communicable', 'diseases', 'ncds', 'tobacco', 'included', 'worsening', 'separately', 'fortunately', 'blessed', 'hopeful', 'enhancement', 'contributor', 'assembled', 'excuses', 'lusaka', 'zambia', 'exemplary', 'additionally', 'mexico', 'beset', 'trust', 'energies', 'believed', 'celebrate', 'intend', 'survey', 'code', 'behavior', 'bed', 'enabled', 'gone', 'expected', 'benefited', 'coincidence', 'educational', 'saved', 'commissioner', 'nairobi', 'disabled', 'blessings', 'signal', 'ought', 'unilateral', 'alliances', 'balances', 'standard', 'applied', 'disagree', 'observe', 'paradox', 'sensitive', 'elements', 'moreover', 'debtor', 'concentration', 'concentrated', 'gathered', 'organize', 'paths', 'grain', 'sand', 'argument', 'employ', 'somehow', 'deliberately', 'roots', 'untouched', 'peacefully', 'bloodshed', 'maintains', 'abandon', 'suspended', 'banks', 'suspend', 'loans', 'australians', 'petroleum', 'import', 'companies', 'operating', 'ensures', 'labor', 'commonwealth', 'authorities', 'africans', 'white', 'clearer', 'investors', 'campaign', 'flagrant', 'terminated', 'refusal', 'adds', 'imposing', 'fundamentally', 'ballistic', 'missile', 'salt', 'ended', 'extraordinary', 'drew', 'article', 'vi', 'invited', 'adhere', 'invitation', 'participant', 'suffers', 'probably', 'laid', 'earned', 'types', 'arise', 'conducted', 'linkage', 'defense', 'maximum', 'eliminating', 'clarity', 'propose', 'difference', 'constitutes', 'critically', 'bearing', 'ramifications', 'prohibit', 'tests', 'terrible', 'proposes', 'settling', 'details', 'chooses', 'protest', 'told', 'condemnation', 'viet', 'nam', 'malaysia', 'deplorable', 'underdevelopment', 'inequity', 'shares', 'imf', 'sell', 'house', 'answers', 'colonization', 'colleague', 'defy', 'imperfect', 'outdated', 'raises', 'attempt', 'examined', 'achievements', 'loyalty', 'ideals', 'narcotics', 'nowhere', 'idealism', 'unesco', 'unhcr', 'expressing', 'figure', 'fruitful', 'sophisticated', 'apprehension', 'atomic', 'distorting', 'possibilities', 'encourages', 'rivalries', 'northern', 'hemisphere', 'acted', 'guard', 'midst', 'signature', 'hiroshima', 'permanently', 'explosives', 'applicable', 'possess', 'manufacture', 'acquire', 'explosive', 'diversion', 'dump', 'radioactive', 'retain', 'decide', 'disguised', 'older', 'antarctica', 'covered', 'tlatelolco', 'spare', 'celebrating', 'consultation', 'manifest', 'gravity', 'unknown', 'scene', 'auckland', 'explosions', 'gained', 'outrage', 'nationals', 'arrested', 'charged', 'murder', 'except', 'acknowledged', 'surveillance', 'arising', 'unfortunate', 'affair', 'virtue', 'vulnerability', 'meant', 'possession', 'neighborhood', 'ponder', 'complacency', 'distinctive', 'dramatically', 'instrumental', 'monitored', 'happy', 'overseas', 'multiracial', 'congress', 'referendum', 'logical', 'adhered', 'predictable', 'pathway', 'disruption', 'destiny', 'automatically', 'smallness', 'scarcity', 'price', 'shipping', 'mineral', 'purse', 'follows', 'concerted', 'impede', 'impressed', 'speed', 'read', 'weaponry', 'alarming', 'dilemma', 'differ', 'voiced', 'utmost', 'competition', 'extending', 'reagan', 'earnestly', 'underestimate', 'derive', 'instruments', 'considers', 'recommend', 'achievable', 'ideological', 'divide', 'halt', 'competitiveness', 'occasions', 'setbacks', 'unrealistic', 'reminds', 'exercising', 'foundations', 'failings', 'refrain', 'elusive', 'moat', 'wishing', 'michael', 'somare', 'intent', 'para', 'unite', 'tenth', 'structured', 'parliamentary', 'constitution', 'advocated', 'protested', 'protests', 'disturbing', 'granting', 'geographic', 'location', 'informed', 'options', 'likely', 'corporations', 'gradually', 'conflicting', 'claims', 'impasse', 'pending', 'entity', 'formula', 'provision', 'resolute', 'grant', 'accord', 'caledonians', 'boost', 'proves', 'colony', 'indefinitely', 'fails', 'viewed', 'learn', 'seats', 'settlers', 'electoral', 'indonesian', 'revised', 'solving', 'escalating', 'heightened', 'deterioration', 'formed', 'lend', 'superior', 'resurgence', 'kampuchea', 'angola', 'perpetrators', 'invasion', 'subsequent', 'embodied', 'dialog', 'principal', 'deplores', 'directed', 'accede', 'exploitation', 'agency', 'reluctant', 'migratory', 'recovery', 'hampered', 'consequently', 'notion', 'confront', 'lending', 'earnings', 'decisively', 'oda', 'participants', 'acceded', 'unctad', 'dedication', 'negative', 'fostering', 'promises', 'recommit', 'complacent', 'quo', 'milestone', 'celebration', 'deserved', 'exceptional', 'dignified', 'patience', 'media', 'capture', 'comparable', 'perspectives', 'serves', 'feel', 'inefficiency', 'strident', 'seldom', 'miss', 'critics', 'democracies', 'tool', 'eat', 'write', 'unfulfilled', 'leaves', 'store', 'anticipation', 'headquarters', 'pronouncements', 'makers', 'speeches', 'dramatic', 'visible', 'tanzania', 'coverage', 'native', 'belong', 'subjects', 'speaker', 'illicit', 'colonies', 'exception', 'exploited', 'insist', 'uniform', 'sons', 'fascism', 'mighty', 'bombs', 'tells', 'sites', 'objections', 'site', 'wonder', 'innocence', 'reject', 'marks', 'rarely', 'deserves', 'wealthy', 'votes', 'taxpayers', 'proportion', 'demand', 'voting', 'yes', 'champion', 'person', 'night', 'clock', 'unfinished', 'attend', 'extremist', 'settler', 'remarkably', 'refuse', 'feelings', 'showed', 'battle', 'constitute', 'seized', 'assuring', 'speedy', 'annexation', 'exactly', 'unicef', 'permitted', 'substance', 'occur', 'incapable', 'happening', 'histories', 'sub', 'humans', 'e', 'twentieth', 'grips', 'realized', 'notions', 'tolerate', 'illegally', 'constituted', 'partial', 'geographically', 'word', 'portion', 'sums', 'newest', 'deadly', 'deficiency', 'transportation', 'turning', 'useless', 'erode', 'susceptible', 'crippling', 'slowly', 'victimized', 'comprehend', 'strike', 'proper', 'avert', 'react', 'phrase', 'pull', 'perfect', 'selfish', 'resulting', 'occasionally', 'wrong', 'gift', 'ranks', 'illiteracy', 'formation', 'interconnected', 'interdependent', 'recommitment', 'alleviate', 'supply', 'income', 'acutely', 'evolve', 'modernization', 'niue', 'disappointment', 'promise', 'conducive', 'constitutional', 'vice', 'stabilization', 'february', 'myanmar', 'darfur', 'targeting', 'promotes', 'zimbabwe', 'abuses', 'supportive', 'ending', 'stabilize', 'icc', 'sixtieth', 'resilient', 'remengesau', 'jr', 'granted', 'emission', 'sponsors', 'detrimental', 'viability', 'trawling', 'deadline', 'diversity', 'helps', 'reefs', 'turkey', 'accomplishment', 'counter', 'directorate', 'requests', 'laundering', 'meaningless', 'voluntary', 'likewise', 'request', 'emerge', 'administrations', 'closing', 'escoto', 'brockmann', 'keen', 'implies', 'presidents', 'god', 'nicaragua', 'kerim', 'lini', 'esteem', 'theory', 'bali', 'harsh', 'trend', 'respectively', 'recorded', 'published', 'tourism', 'ldc', 'graduate', 'imply', 'assets', 'shocks', 'risen', 'criterion', 'prominence', 'eligible', 'sustainability', 'volcanic', 'eruptions', 'ldcs', 'relative', 'disregarded', 'introduce', 'components', 'methodology', 'merit', 'statistical', 'linkages', 'allocation', 'defining', 'honourable', 'legality', 'administer', 'espouses', 'manifestation', 'silence', 'submissions', 'underpinning', 'book', 'walls', 'smallest', 'worthy', 'pray', 'compromises', 'noble', 'canada', 'jamaica', 'bless', 'afresh', 'interdependence', 'argue', 'carnage', 'invariably', 'narrow', 'conceived', 'preceded', 'tariffs', 'gatt', 'unfolding', 'nonetheless', 'comprehensively', 'realism', 'globalization', 'determining', 'instability', 'systemically', 'houses', 'regulation', 'frameworks', 'pro', 'incentive', 'requirements', 'compatible', 'accounting', 'impending', 'remedial', 'core', 'g', 'input', 'shaping', 'deadlines', 'timetable', 'storage', 'generate', 'terrorists', 'containment', 'npt', 'candidate', 'seat', 'dawn', 'protecting', 'oldest', 'creative', 'touch', 'summon', 'declare', 'multiple', 'cognizant', 'knowing', 'brink', 'fragility', 'bright', 'owe', 'happens', 'abroad', 'periods', 'schemes', 'workers', 'preferential', 'exposed', 'imported', 'remoteness', 'metres', 'phosphate', 'rice', 'slip', 'includes', 'feed', 'productivity', 'causing', 'contributors', 'predicted', 'metre', 'ancient', 'uninhabitable', 'rehabilitation', 'preamble', 'capacities', 'incorporated', 'frustrate', 'servants', 'alleviation', 'scourges', 'absolutely', 'revitalization', 'geo', 'germany', 'champions', 'exclusion', 'allowing', 'universality', 'democratization', 'straightforward', 'deliberate', 'expensive', 'escalation', 'goods', 'sharply', 'curtailed', 'normal', 'medical', 'facility', 'affordable', 'lowest', 'guarantees', 'litmus', 'deeds', 'adjustments', 'insofar', 'interrelated', 'morally', 'nightmare', 'justification', 'evidenced', 'dynamics', 'ripe', 'guarded', 'favourable', 'deepen', 'marshallese', 'coalition', 'despair', 'increases', 'movements', 'mobilization', 'matthew', 'advocacy', 'tenure', 'architecture', 'vigilant', 'un', 'categories', 'convening', 'surpluses', 'prerequisite', 'betterment', 'entrenched', 'prioritized', 'accessible', 'accelerating', 'malaria', 'incidence', 'decline', 'forest', 'bill', 'gates', 'facilitated', 'clinton', 'biodiversity', 'engine', 'grand', 'values', 'forests', 'dead', 'producing', 'devastated', 'symptoms', 'obsolete', 'wise', 'subsidizing', 'ravages', 'billions', 'generating', 'rainforest', 'voted', 'logging', 'telling', 'teachers', 'sustainably', 'morning', 'daunting', 'individually', 'tirelessly', 'fingers', 'underground', 'intrusion', 'freshwater', 'render', 'findings', 'pragmatic', 'naive', 'atolls', 'fleeing', 'persecution', 'relocation', 'overnight', 'gaps', 'worthwhile', 'category', 'qualifications', 'gratifying', 'bears', 'undermined', 'phoenix', 'england', 'aquarium', 'preservation', 'pertinent', 'warrant', 'weather', 'outlines', 'weaknesses', 'strengths', 'regrettable', 'facilitating', 'sixth', 'saudi', 'arabia', 'latvia', 'estonia', 'coherence', 'autonomous', 'generosity', 'harmonious', 'topics', 'approaches', 'intervene', 'harness', 'collection', 'admiration', 'gulf', 'preparedness', 'pattern', 'thailand', 'ali', 'transitional', 'travelled', 'fruit', 'sri', 'lanka', 'nationalism', 'breakdown', 'republics', 'minorities', 'similarly', 'distinct', 'peacemaking', 'classic', 'resort', 'actual', 'deterrent', 'removal', 'handed', 'involving', 'fit', 'sent', 'strain', 'anticipate', 'hitherto', 'gathering', 'intensify', 'cornerstones', 'prance', 'facilities', 'capability', 'discriminatory', 'expert', 'underlined', 'entered', 'completing', 'latin', 'deteriorate', 'diminution', 'perceptions', 'imperatives', 'element', 'innovation', 'matched', 'burma', 'refugee', 'displaced', 'regrettably', 'coordination', 'actually', 'revisit', 'notes', 'explicitly', 'qualified', 'considerations', 'interference', 'protective', 'unwieldy', 'suited', 'impose', 'managing', 'elaboration', 'fulfilling', 'malta', 'symbolic', 'moves', 'page', 'anew', 'brief', 'haiti', 'continually', 'articulated', 'dream', 'inscribed', 'pages', 'el', 'salvador', 'huge', 'preoccupied', 'kuwait', 'portuguese', 'joins', 'winds', 'purely', 'contest', 'warned', 'communal', 'strife', 'fell', 'ears', 'strictly', 'runs', 'ironic', 'alert', 'evolving', 'rid', 'compelling', 'heeded', 'somewhat', 'unced', 'fed', 'unrest', 'allows', 'adherence', 'triumph', 'accomplishments', 'nurture', 'nutrition', 'greeted', 'passing', 'released', 'pause', 'fulfilment', 'average', 'ruled', 'transformation', 'restored', 'administrator', 'plain', 'truth', 'confirm', 'realistically', 'biggest', 'agendas', 'desired', 'submit', 'fervent', 'insurmountable', 'beauty', 'magnitude', 'foreseeable', 'uncertainties', 'sitting', 'floor', 'grows', 'trees', 'village', 'students', 'disparities', 'healthier', 'indicative', 'pave', 'unified', 'cut', 'essence', 'giant', 'likelihood', 'witnessing', 'landscape', 'usher', 'autonomy', 'prosperous', 'heartfelt', 'momentous', 'stopping', 'concert', 'display', 'commissions', 'tradition', 'safely', 'defeated', 'streets', 'bitterness', 'hinder', 'ease', 'restrictions', 'fine', 'overdue', 'chairmanship', 'failing', 'lower', 'unstable', 'regimes', 'earn', 'acquisition', 'cooperate', 'maori', 'indication', 'avenue', 'pivotal', 'combined', 'initiated', 'thirtieth', 'accords', 'smooth', 'disrupt', 'climatic', 'patterns', 'prescribed', 'opposition', 'johnston', 'declarations', 'institutionalized', 'evils', 'prevalent', 'unchanged', 'compounded', 'stagnation', 'deprived', 'recognise', 'umbrella', 'lome', 'iv', 'enjoyed', 'detained', 'imbalances', 'reaches', 'pledged', 'shelter', 'ship', 'abide', 'ruling', 'beautiful', 'nobody', 'freeing', 'desperate', 'logic', 'endless', 'uncontrolled', 'seated', 'earnest', 'detente', 'promptly', 'tentative', 'table', 'handful', 'stalemate', 'meanwhile', 'practicable', 'moratorium', 'rarotonga', 'suva', 'glad', 'accepts', 'manufacturing', 'lesson', 'neighbor', 'geography', 'preserved', 'disappointing', 'departments', 'reported', 'harare', 'tries', 'reliant', 'comparative', 'disciplines', 'hit', 'tariff', 'unsustainable', 'explosion', 'thrown', 'afflicted', 'shocked', 'attacks', 'namibian', 'rejection', 'bombing', 'troubles', 'holocaust', 'dues', 'arrears', 'cash', 'contain', 'disregard', 'finances', 'recrimination', 'deepening', 'false', 'camps', 'precious', 'bangladesh', 'commemorate', 'notable', 'fore', 'listened', 'crowded', 'senseless', 'soldiers', 'unabated', 'absolute', 'hungry', 'homeless', 'widened', 'symbolizes', 'celebrations', 'candid', 'correct', 'moderate', 'exact', 'frustrating', 'cyclone', 'miscalculation', 'error', 'accidents', 'reminders', 'occurs', 'multilateralism', 'wrote', 'passage', 'segregation', 'locked', 'grip', 'intransigence', 'content', 'possibly', 'walk', 'eyes', 'brutality', 'contains', 'contradiction', 'deciding', 'lofty', 'liberty', 'promised', 'suggestion', 'fairness', 'asking', 'influential', 'sensitivity', 'turbulent', 'extraordinarily', 'deprivation', 'television', 'starving', 'pessimistic', 'art', 'nationalist', 'efficacy', 'sufficiently', 'understandably', 'shameful', 'tragedies', 'suppress', 'brandt', 'gun', 'tackled', 'shows', 'ingredient', 'fairer', 'prevailed', 'thrust', 'noting', 'distress', 'subsidization', 'atrocities', 'khmer', 'sensible', 'residents', 'reviewed', 'injustice', 'train', 'touched', 'replacement', 'dispossessed', 'detriment', 'prevailing', 'conspicuous', 'consciousness', 'feels', 'operative', 'performed', 'fatigue', 'closest', 'aggressive', 'receiving', 'dismayed', 'horror', 'guineans', 'injured', 'persists', 'referring', 'paragraph', 'twice', 'stimulate', 'mounting', 'islanders', 'contaminated', 'supposed', 'hazards', 'contamination', 'multi', 'assumptions', 'interested', 'domination', 'boat', 'ranging', 'restructured', 'assumption', 'sharp', 'defeat', 'enduring', 'desperation', 'channels', 'redress', 'exacerbate', 'endorsement', 'iraqi', 'sergio', 'vieira', 'mello', 'deployed', 'notwithstanding', 'observance', 'landmark', 'rome', 'statute', 'longstanding', 'unduly', 'appalling', 'legitimacy', 'fissile', 'awful', 'toll', 'kofi', 'annan', 'congratulates', 'switzerland', 'formally', 'exacerbated', 'acp', 'johannesburg', 'preventable', 'qualify', 'custodians', 'statistics', 'annum', 'meagre', 'fees', 'villages', 'lakes', 'barbados', 'paves', 'shipment', 'populous', 'announcements', 'aside', 'landlocked', 'needy', 'brussels', 'remiss', 'sorrow', 'justified', 'underpin', 'outgoing', 'rd', 'induced', 'ratifying', 'trans', 'oecd', 'tax', 'controlled', 'fatf', 'cooperating', 'satisfying', 'players', 'steadfast', 'alternatives', 'love', 'kessai', 'jan', 'kavan', 'assessing', 'thoroughly', 'consultations', 'blueprint', 'invest', 'linking', 'eager', 'entities', 'uniquely', 'imposes', 'utilized', 'signatory', 'chain', 'thwarted', 'unwavering', 'speaks', 'coordinate', 'guidelines', 'count', 'broaden', 'fellowship', 'inhumane', 'intact', 'transactions', 'streamline', 'condone', 'hearing', 'confined', 'widening', 'marginalization', 'philosophy', 'folly', 'sighted', 'appeared', 'illnesses', 'returned', 'mid', 'civilizations', 'safer', 'humane', 'dismantle', 'hide', 'actors', 'tangible', 'intelligence', 'controls', 'enterprise', 'undermines', 'heartedly', 'arrived', 'timorese', 'authorized', 'administered', 'memories', 'inhuman', 'guaranteeing', 'neglect', 'distributed', 'cornerstone', 'prevails', 'unreservedly', 'struggles', 'shortage', 'backed', 'characteristics', 'kava', 'practised', 'impacted', 'negatively', 'xxvi', 'pleas', 'inquiry', 'worlds', 'fullest', 'consists', 'prejudice', 'realizing', 'conciliation', 'listed', 'travel', 'destination', 'popular', 'unthinkable', 'attempting', 'ibid', 'inhabitants', 'cook', 'studied', 'consult', 'strained', 'believing', 'intolerable', 'exclude', 'applications', 'suitable', 'expulsion', 'persistently', 'privileges', 'rhodesia', 'formerly', 'smith', 'blocked', 'prolonged', 'requested', 'cohesion', 'distinction', 'proof', 'convened', 'mozambique', 'assurances', 'conformity', 'keys', 'contingent', 'proven', 'wished', 'resumed', 'caracas', 'departure', 'artificial', 'diogo', 'freitas', 'amaral', 'boutros', 'ghali', 'imports', 'landmines', 'favour', 'britain', 'ireland', 'sending', 'iaea', 'rendered', 'summer', 'bosnia', 'herzegovina', 'provinces', 'remembered', 'obtaining', 'mandated', 'inaugural', 'communicate', 'demonstrates', 'razali', 'tuesday', 'push', 'demining', 'commonly', 'bans', 'feasible', 'initiating', 'grade', 'banned', 'mines', 'contentious', 'advocates', 'embark', 'saddened', 'department', 'tragically', 'vigorous', 'cairo', 'break', 'cycle', 'workshop', 'adviser', 'payment', 'equip', 'adapt', 'emphatically', 'defence', 'denuclearization', 'oceania', 'furthering', 'extinction', 'straddling', 'seminar', 'port', 'moresby', 'flee', 'injury', 'criminals', 'send', 'violate', 'outsiders', 'directive', 'apec', 'lom', 'spreading', 'preferences', 'underlines', 'starvation', 'anarchy', 'atlantic', 'doubled', 'irrelevant', 'gaza', 'geared', 'interlinked', 'board', 'restructuring', 'scrutiny', 'kabua', 'highlights', 'circulated', 'deeper', 'berlin', 'underscored', 'thorough', 'reef', 'commended', 'candidature', 'ctbt', 'stockpiles', 'affirm', 'shipments', 'plutonium', 'oversee', 'candidacy', 'accelerated', 'radiation', 'experiments', 'clean', 'index', 'attainment', 'officers', 'buy', 'committing', 'sharks', 'presidential', 'highlighting', 'crossroads', 'integrate', 'award', 'broadband', 'watch', 'harmonizing', 'unfccc', 'obama', 'arctic', 'ice', 'recourse', 'grasp', 'citizen', 'bloc', 'dominate', 'lifting', 'faiths', 'diplomats', 'operates', 'jordan', 'brahimi', 'settlements', 'jerusalem', 'embraces', 'nassir', 'abdulaziz', 'stakes', 'testament', 'deteriorated', 'bigger', 'empty', 'celsius', 'canc', 'n', 'durban', 'sids', 'downturn', 'mauritius', 'consolidating', 'chairing', 'withdrawn', 'abstract', 'unreported', 'pledging', 'losing', 'utterly', 'voluntarily', 'confine', 'counterpart', 'removing', 'seeds', 'steer', 'array', 'aspire', 'embargo', 'cuba', 'commence', 'firmer', 'eligibility', 'projections', 'exposure', 'arguments', 'seize', 'tolerated', 'expeditiously', 'precautionary', 'watershed', 'overlooked', 'revenue', 'declining', 'adapted', 'cairns', 'cruel', 'degrading', 'reservations', 'commenced', 'injustices', 'strides', 'utilization', 'mindful', 'oceanscape', 'straits', 'visionary', 'ukraine', 'emphasizes', 'hence', 'freed', 'indispensable', 'differently', 'perceive', 'hennadiy', 'udovenko', 'urban', 'desperately', 'documents', 'subregion', 'captured', 'utility', 'proposing', 'framing', 'organizational', 'twelfth', 'delhi', 'eroded', 'successor', 'beijing', 'coexistence', 'sierra', 'leone', 'transboundary', 'vienna', 'ottawa', 'affinity', 'reassure', 'attained', 'courageous', 'paralysis', 'exemplifies', 'renewal', 'revision', 'savings', 'preparatory', 'finalize', 'vigilance', 'disappear', 'responsiveness', 'anomalies', 'inequities', 'subregions', 'embracing', 'reconfiguration', 'opposite', 'harder', 'trained', 'owed', 'enlargement', 'budgets', 'payments', 'belongs', 'alleviating', 'occupy', 'separated', 'races', 'opponents', 'neutral', 'camp', 'ardent', 'anglo', 'hebrides', 'needless', 'strives', 'onerous', 'manifestations', 'prosper', 'twin', 'jeopardy', 'sufficiency', 'disposition', 'poorest', 'enforced', 'web', 'deprive', 'pursuant', 'surplus', 'carries', 'unifil', 'beirut', 'intercommunal', 'eleventh', 'persuasion', 'investigation', 'abundant', 'industrialization', 'disadvantage', 'introducing', 'submitting', 'exporter', 'solomons', 'supplement', 'harmonization', 'marking', 'bicentenary', 'fathers', 'tear', 'resounding', 'nobel', 'prize', 'heartily', 'jakarta', 'ably', 'presided', 'pol', 'pot', 'missiles', 'obstacle', 'banking', 'aboriginal', 'cruelty', 'sanctioned', 'adjusting', 'assurance', 'chaos', 'kampuchean', 'horn', 'examining', 'profess', 'prison', 'convergence', 'torn', 'prompted', 'sustenance', 'manufactured', 'undp', 'chemicals', 'blessing', 'painfully', 'candour', 'german', 'ordination', 'steadily', 'inflicted', 'regain', 'forth', 'stems', 'begins', 'monday', 'indebted', 'perseverance', 'breeds', 'flight', 'safeguarding', 'convince', 'allegations', 'warfare', 'reassurance', 'exceeded', 'vested', 'overfishing', 'globalized', 'vila', 'biketawa', 'commensurate', 'hosting', 'deficit', 'kosovo', 'suppressed', 'mix', 'tsunami', 'codes', 'breakthrough', 'sinai', 'multinational', 'offering', 'joseph', 'suicide', 'habitats', 'unusual', 'redd', 'testimony', 'reviews', 'grappling', 'grew', 'nauruan', 'lest', 'unregulated', 'thanking', 'connected', 'pandemic', 'starkly', 'nationally', 'undiminished', 'japanese', 'tsunamis', 'models', 'incorporate', 'construct', 'diabetes', 'sars', 'battles', 'gradual', 'recipient', 'designated', 'looming', 'brunei', 'darussalam', 'fortunate', 'worried', 'irrational', 'incumbent', 'reluctance', 'speedily', 'unwelcome', 'backyard', 'rejects', 'consent', 'doubts', 'procedure', 'dealings', 'publicly', 'installed', 'crossers', 'noumea', 'varied', 'delayed', 'divert', 'boats', 'singapore', 'retreat', 'cuban', 'afghan', 'denying', 'uranium', 'sudden', 'panama', 'educated', 'arrogance', 'frequency', 'illusions', 'giants', 'anger', 'idly', 'unleashed', 'prestige', 'cities', 'frontiers', 'practise', 'menace', 'chinese', 'loved', 'swapo', 'exclusionary', 'heights', 'devised', 'creator', 'eu', 'gatherings', 'detonated', 'hamper', 'vein', 'enlightened', 'intensity', 'derailed', 'produces', 'derived', 'contaminants', 'petition', 'lent', 'haunt', 'reproductive', 'mothers', 'horrendous', 'bravo', 'breadth', 'unilateralism', 'flawed', 'possessing', 'availability', 'intra', 'exciting', 'compare', 'unfpa', 'fao', 'levy', 'cloud', 'dismay', 'tens', 'verge', 'forecast', 'ominous', 'ni', 'landslides', 'hardest', 'extremism', 'slowed', 'drop', 'fluctuations', 'mature', 'swift', 'damaging', 'revitalized', 'pran', 'onto', 'amendments', 'te', 'depression', 'flourish', 'demanding', 'producer', 'output', 'quietly', 'coordinating', 'affluent', 'outline', 'bargain', 'pipa', 'admirably', 'preliminary', 'swept', 'disorder', 'weakness', 'j', 'articles', 'attending', 'muster', 'malik', 'esteemed', 'troublesome', 'inconsistent', 'hostages', 'manufactures', 'polynesian', 'settled', 'blunt', 'consequent', 'sterile', 'inspection', 'oppressed', 'saint', 'airliner', 'affront', 'weakened', 'suggestions', 'superpowers', 'unarmed', 'outbreak', 'keepers', 'crash', 'bahamas', 'salute', 'strikes', 'signify', 'letter', 'grievous', 'crops', 'economics', 'toward', 'habits', 'deficits', 'extremists', 'salim', 'lucia', 'deficient', 'jeopardize', 'recurring', 'rigidities', 'refuge', 'endangering', 'acknowledgement', 'reconciling', 'habibie', 'ballot', 'impotent', 'swiftly', 'constrain', 'croatia', 'gaining', 'sterling', 'unamet', 'opertti', 'gurirab', 'noum', 'normalcy', 'lincoln', 'militias', 'ping', 'reinvigorated', 'enforcing', 'responsibly', 'reiterating', 'uganda', 'eradicated', 'afternoon', 'explored', 'onshore', 'relocate', 'forestry', 'democratically', 'factions', 'wealthier', 'severity', 'exploit', 'coup', 'cancun', 'launching', 'islamic', 'havens', 'baghdad', 'julian', 'hunte', 'offshore', 'registered', 'countermeasures', 'cloning', 'embassy', 'endowed', 'wmd', 'recycling', 'ebola', 'ms', 'kathy', 'eez', 'sdg', 'mother', 'sam', 'kutesa', 'sdgs', 'transforming', 'seventieth', 'libya', 'coalitions', 'ivoire', 'daesh', 'addis', 'ababa', 'isil', 'insanally', 'guyana', 'soundly', 'northsouth', 'prestigious', 'persian', 'montenegro', 'taniwal', 'eliasson']\n"
     ]
    }
   ],
   "source": [
    "WordList=getWordList(sentences,minCount=5) # for min frequency of a word which should be 5\n",
    "print(WordList)"
   ]
  },
  {
   "cell_type": "code",
   "execution_count": 18,
   "metadata": {},
   "outputs": [],
   "source": [
    "from gensim.models import FastText\n"
   ]
  },
  {
   "cell_type": "code",
   "execution_count": 19,
   "metadata": {},
   "outputs": [],
   "source": [
    "model = FastText(sentences,vector_size=300,window=5,min_count=5,seed=132,workers=multiprocessing.cpu_count(),batch_words=1)"
   ]
  },
  {
   "cell_type": "code",
   "execution_count": 30,
   "metadata": {},
   "outputs": [],
   "source": [
    "model2 = Word2Vec(sentences,size=300,window=5,min_count=5,seed=42,workers=multiprocessing.cpu_count(),batch_words=1)"
   ]
  },
  {
   "cell_type": "code",
   "execution_count": null,
   "metadata": {},
   "outputs": [],
   "source": []
  },
  {
   "cell_type": "code",
   "execution_count": 24,
   "metadata": {},
   "outputs": [],
   "source": [
    "def Stability2(word,similar1,similar2):    \n",
    "    overlap=0\n",
    "    for i in range(len(similar1)):\n",
    "        for j in range(len(similar2)):\n",
    "            if similar1[i][0] == similar2[j][0]:\n",
    "                overlap=overlap+1\n",
    "    return overlap"
   ]
  },
  {
   "cell_type": "code",
   "execution_count": 41,
   "metadata": {},
   "outputs": [
    {
     "name": "stdout",
     "output_type": "stream",
     "text": [
      "4959061.780428033\n"
     ]
    }
   ],
   "source": [
    "df['Stability(%) IU'] = pd.to_numeric(df['Stability(%) IU'])\n",
    "s = df['Stability(%) IU'].sum()\n",
    "print(s)"
   ]
  },
  {
   "cell_type": "code",
   "execution_count": 26,
   "metadata": {},
   "outputs": [],
   "source": [
    "def target_attribute(target_one,target_two, target_one_words, attribute_one,attribute_two, attribute_one_words, target_two_words, attribute_two_words):\n",
    "    cos=[]\n",
    "    s=0\n",
    "    s1=[]\n",
    "    s2=[]\n",
    "    S=[]\n",
    "    n=0\n",
    "    for i in range(0, len(target_one_words)):\n",
    "            c1=[]\n",
    "            c2=[]\n",
    "            for k in range(0, len(attribute_one_words)):\n",
    "                wt = target_one_words[i][:-1]\n",
    "                at1 = attribute_one_words[k][:-1]\n",
    "                try:\n",
    "                    cos1= model.wv.similarity(wt, at1)\n",
    "                    cos.append(cos1)\n",
    "                    c1.append(cos1)\n",
    "                except:\n",
    "                    cos1=0\n",
    "                    cos.append(cos1)\n",
    "                    c1.append(cos1)\n",
    "                    continue\n",
    "            for k in range(0, len(attribute_two_words)):\n",
    "                cos2=0\n",
    "                wt = target_one_words[i][:-1]\n",
    "                at2 = attribute_two_words[k][:-1]\n",
    "                try:\n",
    "                    cos2= model.wv.similarity(wt, at2)\n",
    "                    cos.append(cos2)\n",
    "                    c2.append(cos2)\n",
    "                except:\n",
    "                    cos2=0\n",
    "                    cos.append(cos2)\n",
    "                    c2.append(cos2)\n",
    "                    continue\n",
    "            s1.append((np.mean(c1)-np.mean(c2)))\n",
    "            S.append((np.mean(c1)-np.mean(c2)))\n",
    "            n=n+1\n",
    "            # print(S)\n",
    "    for i in range(0, len(target_two_words)):\n",
    "            c1=[]\n",
    "            c2=[]\n",
    "            for k in range(0, len(attribute_one_words)):\n",
    "                wt = target_two_words[i][:-1]\n",
    "                at1 = attribute_one_words[k][:-1]\n",
    "                try:\n",
    "                    cos1= model.wv.similarity(wt, at1)\n",
    "                    cos.append(cos1)\n",
    "                    c1.append(cos1)\n",
    "                except:\n",
    "                    cos1=0\n",
    "                    cos.append(cos1)\n",
    "                    c1.append(cos1)\n",
    "                    continue\n",
    "            for k in range(0, len(attribute_two_words)):\n",
    "                cos2=0\n",
    "                wt = target_two_words[i][:-1]\n",
    "                at2 = attribute_two_words[k][:-1]\n",
    "                try:\n",
    "                    cos2= model.wv.similarity(wt, at2)\n",
    "                    cos.append(cos2)\n",
    "                    c2.append(cos2)\n",
    "                except:\n",
    "                    cos2=0\n",
    "                    cos.append(cos2)\n",
    "                    c2.append(cos2)\n",
    "                    continue\n",
    "            s2.append((np.mean(c1)-np.mean(c2)))\n",
    "            S.append((np.mean(c1)-np.mean(c2)))\n",
    "            # print(S)\n",
    "    s=np.sum(s1)-np.sum(s2)\n",
    "    stdev=np.std(S)\n",
    "    # print(s)\n",
    "    print(target_one + ' vs ' + target_two  + ' , ' +attribute_one + ' vs ' + attribute_two +', d = ' + str(s/(stdev*n)))\n",
    "    #print(str(s/(stdev*n)))"
   ]
  },
  {
   "cell_type": "code",
   "execution_count": null,
   "metadata": {},
   "outputs": [],
   "source": [
    "for i in range(0, len(raw_sentences), 4):\n",
    "    print(i)\n",
    "    words=raw_sentences[i].split(\":\")\n",
    "    # print(words)\n",
    "    target_one = words[0]\n",
    "    # print(target_one)\n",
    "    target_one_words = list(words[1].split(','))\n",
    "    target_one_words = [elem.strip().replace(\" \", \"\").replace(\"'\", \"\") for elem in target_one_words]  \n",
    "    target_one_words = [elem.strip().replace(\".\",\"\") for elem in target_one_words]  \n",
    "\n",
    "\n",
    "    words1=raw_sentences[i+1].split(\":\")\n",
    "    # print(words)\n",
    "    target_two = words1[0]\n",
    "    # print(target_one)\n",
    "    target_two_words = list(words1[1].split(','))\n",
    "    target_two_words = [elem.strip().replace(\" \", \"\").replace(\"'\", \"\") for elem in target_two_words]  \n",
    "    target_two_words = [elem.strip().replace(\".\",\"\") for elem in target_two_words]  \n",
    "\n",
    "    \n",
    "    words1=raw_sentences[i+2].split(\":\")\n",
    "    # print(words)\n",
    "    attribute_one = words1[0]\n",
    "    # print(target_one)\n",
    "    attribute_one_words = list(words1[1].split(','))\n",
    "    attribute_one_words = [elem.strip().replace(\" \", \"\").replace(\"'\", \"\") for elem in attribute_one_words]  \n",
    "    attribute_one_words = [elem.strip().replace(\".\",\"\") for elem in attribute_one_words]  \n",
    "\n",
    "    \n",
    "    words1=raw_sentences[i+3].split(\":\")\n",
    "    # print(words)\n",
    "    attribute_two = words1[0]\n",
    "    # print(target_one)\n",
    "    attribute_two_words = list(words1[1].split(','))\n",
    "    attribute_two_words = [elem.strip().replace(\" \", \"\").replace(\"'\", \"\") for elem in attribute_two_words]  \n",
    "    attribute_two_words = [elem.strip().replace(\".\",\"\") for elem in attribute_two_words]  \n",
    "\n",
    "    \n",
    "    # i = i+4\n",
    "    # print(target_one_words)\n",
    "    # words1=raw_sentences[i*4+1].split()\n",
    "    # target_two = words1[0][:-1]\n",
    "    # target_two_words = words1[1:]\n",
    "    # words2=raw_sentences[i*4+2].split()\n",
    "    # attribute_one = words2[0][:-1]\n",
    "    # attribute_one_words = words2[1:]\n",
    "    # words3 = raw_sentences[i*4+3].split()\n",
    "    # attribute_two = words3[0][:-1]\n",
    "    # attribute_two_words = words3[1:]\n",
    "    \n",
    "    print(target_attribute(target_one, target_two, target_one_words, attribute_one,attribute_two, attribute_one_words, target_two_words, attribute_two_words))"
   ]
  },
  {
   "cell_type": "code",
   "execution_count": null,
   "metadata": {},
   "outputs": [],
   "source": []
  }
 ],
 "metadata": {
  "kernelspec": {
   "display_name": "Python 3 (ipykernel)",
   "language": "python",
   "name": "python3"
  },
  "language_info": {
   "codemirror_mode": {
    "name": "ipython",
    "version": 3
   },
   "file_extension": ".py",
   "mimetype": "text/x-python",
   "name": "python",
   "nbconvert_exporter": "python",
   "pygments_lexer": "ipython3",
   "version": "3.9.7"
  }
 },
 "nbformat": 4,
 "nbformat_minor": 2
}
