{
 "cells": [
  {
   "cell_type": "code",
   "execution_count": null,
   "id": "41687625",
   "metadata": {},
   "outputs": [],
   "source": [
    "import gzip"
   ]
  },
  {
   "cell_type": "code",
   "execution_count": null,
   "id": "7189933c",
   "metadata": {},
   "outputs": [],
   "source": [
    "lines = []\n",
    "with gzip.open('c1.gz', 'r') as fin:\n",
    "    for line in fin:\n",
    "#         print(line)\n",
    "        lines.append(line)"
   ]
  },
  {
   "cell_type": "code",
   "execution_count": null,
   "id": "be835960",
   "metadata": {},
   "outputs": [],
   "source": [
    "df = pd.DataFrame([str(sub).split(\",\") for sub in lines])"
   ]
  },
  {
   "cell_type": "code",
   "execution_count": null,
   "id": "7369c834",
   "metadata": {},
   "outputs": [],
   "source": [
    "text = []\n",
    "country = []\n",
    "lang = []\n",
    "nwords = []\n",
    "for i in lines:\n",
    "    s = (str(i.decode(\"utf-8\").split(',', 1)[1]))\n",
    "    index = s.rfind(\"Country_a\") # change this based on the country \n",
    "    if index >= 0:\n",
    "#         print(s[:index])\n",
    "        s = s[:index]\n",
    "        text.append(s)"
   ]
  },
  {
   "cell_type": "code",
   "execution_count": null,
   "id": "8c17b167",
   "metadata": {},
   "outputs": [],
   "source": [
    "#only for expanding \n",
    "\n",
    "import re\n",
    "t = []\n",
    "for i in text: \n",
    "    match = re.search(r'[a-zA-Z]+', i) \n",
    "    if match:\n",
    "        k = i[i.find('\"'):]\n",
    "        t.append(k)"
   ]
  },
  {
   "cell_type": "code",
   "execution_count": null,
   "id": "0c3f759c",
   "metadata": {
    "scrolled": true
   },
   "outputs": [],
   "source": [
    "# from transformers import AutoTokenizer, DataCollatorWithPadding\n",
    "from transformers import BertTokenizer, BertModel\n",
    "\n",
    "tokenizer = BertTokenizer.from_pretrained('bert-base-uncased')"
   ]
  },
  {
   "cell_type": "code",
   "execution_count": null,
   "id": "d251d89b",
   "metadata": {},
   "outputs": [],
   "source": [
    "import nltk\n",
    "nltk.download('stopwords')"
   ]
  },
  {
   "cell_type": "code",
   "execution_count": null,
   "id": "b95ef00d",
   "metadata": {},
   "outputs": [],
   "source": [
    "from nltk.corpus import stopwords\n",
    "\n",
    "stop = set(stopwords.words('english'))"
   ]
  },
  {
   "cell_type": "code",
   "execution_count": null,
   "id": "db686421",
   "metadata": {},
   "outputs": [],
   "source": [
    "import re\n",
    "clean_txt = []\n",
    "for w in range(len(text)):\n",
    "    desc = text[w].lower()\n",
    "    # print(desc.split())\n",
    "    desc = ' '.join([i for i in desc.split() if i not in stop])\n",
    "    # print(desc)\n",
    "    desc = re.sub('[^a-zA-Z]', ' ', desc) # punc\n",
    "    desc=re.sub(\"&lt;/?.*?&gt;\",\" &lt;&gt; \",desc) #tags\n",
    "    desc=re.sub(\"(\\\\d|\\\\W)+\",\" \",desc)\n",
    "    clean_txt.append(desc)"
   ]
  },
  {
   "cell_type": "code",
   "execution_count": null,
   "id": "2f4a6b79",
   "metadata": {},
   "outputs": [],
   "source": [
    "import numpy as np \n",
    "\n",
    "len_ = []\n",
    "tlen = []\n",
    "for i in clean_txt:\n",
    "    len_.append(np.char.count(i, ' ') + 1)\n",
    "    tlen.append(len(tokenizer.tokenize(i)))"
   ]
  },
  {
   "cell_type": "code",
   "execution_count": null,
   "id": "0261f9a0",
   "metadata": {},
   "outputs": [],
   "source": [
    "import pandas as pd\n",
    "df = pd.DataFrame(list(zip(clean_txt, len_, tlen)),\n",
    "              columns=['Text','Length', 'Tokens'])"
   ]
  },
  {
   "cell_type": "code",
   "execution_count": null,
   "id": "38d2ab03",
   "metadata": {},
   "outputs": [],
   "source": [
    "df_ = df[df.Length>20]\n",
    "df_ = df_[df_vanuatu.Tokens < 500]\n",
    "df_ = df_.sample(n=94000).reset_index(drop=True)"
   ]
  },
  {
   "cell_type": "code",
   "execution_count": null,
   "id": "31ba0db4",
   "metadata": {},
   "outputs": [],
   "source": [
    "df_.to_csv(\"Region_a.csv\")"
   ]
  }
 ],
 "metadata": {
  "kernelspec": {
   "display_name": "Python 3 (ipykernel)",
   "language": "python",
   "name": "python3"
  },
  "language_info": {
   "codemirror_mode": {
    "name": "ipython",
    "version": 3
   },
   "file_extension": ".py",
   "mimetype": "text/x-python",
   "name": "python",
   "nbconvert_exporter": "python",
   "pygments_lexer": "ipython3",
   "version": "3.9.6"
  }
 },
 "nbformat": 4,
 "nbformat_minor": 5
}
